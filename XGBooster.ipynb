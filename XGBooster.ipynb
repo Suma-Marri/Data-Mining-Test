{
 "cells": [
  {
   "cell_type": "markdown",
   "metadata": {},
   "source": [
    "## Predict if a driver will file an insurance claim next year.\n",
    "\n",
    "### Problem Statment: \n",
    "<ul>predict the probability that an auto insurance policy holder files a claim.<ul>"
   ]
  },
  {
   "cell_type": "code",
   "execution_count": 1,
   "metadata": {},
   "outputs": [],
   "source": [
    "import numpy as np\n",
    "import pandas as pd\n",
    "import matplotlib.pyplot as plt\n",
    "%matplotlib inline\n",
    "\n",
    "\n",
    "import warnings\n",
    "warnings.filterwarnings('ignore')\n",
    "\n",
    "pd.set_option('display.max_columns', 500)\n",
    "pd.set_option('display.max_rows', 65000)\n",
    "\n",
    "from scipy import stats\n",
    "\n",
    "from sklearn.preprocessing import LabelEncoder, MinMaxScaler\n",
    "from sklearn.model_selection import train_test_split\n",
    "\n",
    "##Synthetic Minority Over-sampling Technique to overcome imbalanced dataset\n",
    "from imblearn.over_sampling import SMOTE \n",
    "\n",
    "from sklearn.linear_model import LogisticRegression\n",
    "from sklearn.tree import DecisionTreeClassifier\n",
    "from sklearn.ensemble import RandomForestClassifier\n",
    "from sklearn.ensemble import AdaBoostClassifier\n",
    "from sklearn.ensemble import GradientBoostingClassifier\n",
    "from sklearn.svm import SVC\n",
    "from sklearn.neighbors import NearestNeighbors\n",
    "\n",
    "from sklearn.model_selection import RandomizedSearchCV\n",
    "from sklearn.model_selection import GridSearchCV, cross_val_score, StratifiedKFold\n",
    "\n",
    "from sklearn.metrics import confusion_matrix, recall_score, precision_score, f1_score, roc_auc_score, roc_curve, make_scorer\n",
    "score_fun = make_scorer('roc_auc')"
   ]
  },
  {
   "cell_type": "code",
   "execution_count": 2,
   "metadata": {},
   "outputs": [],
   "source": [
    "df = pd.read_csv(\"TRAIN.csv\")"
   ]
  },
  {
   "cell_type": "code",
   "execution_count": 3,
   "metadata": {},
   "outputs": [
    {
     "data": {
      "text/plain": [
       "0    0.963486\n",
       "1    0.036514\n",
       "Name: target, dtype: float64"
      ]
     },
     "execution_count": 3,
     "metadata": {},
     "output_type": "execute_result"
    }
   ],
   "source": [
    "df['target'].value_counts(normalize=True)"
   ]
  },
  {
   "cell_type": "code",
   "execution_count": 4,
   "metadata": {},
   "outputs": [
    {
     "data": {
      "text/plain": [
       "0    480895\n",
       "1     18225\n",
       "Name: target, dtype: int64"
      ]
     },
     "execution_count": 4,
     "metadata": {},
     "output_type": "execute_result"
    }
   ],
   "source": [
    "df['target'].value_counts()"
   ]
  },
  {
   "cell_type": "raw",
   "metadata": {},
   "source": [
    "df = df.replace(-1, np.NAN)"
   ]
  },
  {
   "cell_type": "raw",
   "metadata": {},
   "source": [
    "missing_values_per = df.isna().sum()/df.shape[0]*100\n",
    "missing_values_per[missing_values_per>40]"
   ]
  },
  {
   "cell_type": "raw",
   "metadata": {},
   "source": [
    "df.drop(columns='ps_car_03_cat', inplace=True)"
   ]
  },
  {
   "cell_type": "code",
   "execution_count": 5,
   "metadata": {},
   "outputs": [],
   "source": [
    "df_id = df['id']\n",
    "y = df['target']\n",
    "df.drop(columns=['id', 'target'], inplace=True)"
   ]
  },
  {
   "cell_type": "code",
   "execution_count": 6,
   "metadata": {},
   "outputs": [
    {
     "data": {
      "text/plain": [
       "(499120, 57)"
      ]
     },
     "execution_count": 6,
     "metadata": {},
     "output_type": "execute_result"
    }
   ],
   "source": [
    "df.shape"
   ]
  },
  {
   "cell_type": "code",
   "execution_count": 7,
   "metadata": {},
   "outputs": [],
   "source": [
    "columns = df.columns.to_list()"
   ]
  },
  {
   "cell_type": "code",
   "execution_count": 8,
   "metadata": {},
   "outputs": [],
   "source": [
    "cat = []\n",
    "reg = []\n",
    "for i in columns:\n",
    "    if 'cat' in i:\n",
    "        cat.append(i)\n",
    "    elif 'bin' in i:\n",
    "        cat.append(i)        \n",
    "    elif 'reg' in i:\n",
    "        reg.append(i)\n",
    "    elif 'ind' in i:\n",
    "        cat.append(i)\n",
    "    elif df[i].dtype=='float64':\n",
    "        reg.append(i)\n",
    "    else:\n",
    "        cat.append(i)"
   ]
  },
  {
   "cell_type": "code",
   "execution_count": 9,
   "metadata": {
    "scrolled": false
   },
   "outputs": [
    {
     "data": {
      "text/html": [
       "<div>\n",
       "<style scoped>\n",
       "    .dataframe tbody tr th:only-of-type {\n",
       "        vertical-align: middle;\n",
       "    }\n",
       "\n",
       "    .dataframe tbody tr th {\n",
       "        vertical-align: top;\n",
       "    }\n",
       "\n",
       "    .dataframe thead th {\n",
       "        text-align: right;\n",
       "    }\n",
       "</style>\n",
       "<table border=\"1\" class=\"dataframe\">\n",
       "  <thead>\n",
       "    <tr style=\"text-align: right;\">\n",
       "      <th></th>\n",
       "      <th>ps_reg_01</th>\n",
       "      <th>ps_reg_02</th>\n",
       "      <th>ps_reg_03</th>\n",
       "      <th>ps_car_12</th>\n",
       "      <th>ps_car_13</th>\n",
       "      <th>ps_car_14</th>\n",
       "      <th>ps_car_15</th>\n",
       "      <th>ps_calc_01</th>\n",
       "      <th>ps_calc_02</th>\n",
       "      <th>ps_calc_03</th>\n",
       "    </tr>\n",
       "  </thead>\n",
       "  <tbody>\n",
       "    <tr>\n",
       "      <th>0</th>\n",
       "      <td>0.7</td>\n",
       "      <td>0.2</td>\n",
       "      <td>0.718070</td>\n",
       "      <td>0.400000</td>\n",
       "      <td>0.883679</td>\n",
       "      <td>0.370810</td>\n",
       "      <td>3.605551</td>\n",
       "      <td>0.6</td>\n",
       "      <td>0.5</td>\n",
       "      <td>0.2</td>\n",
       "    </tr>\n",
       "    <tr>\n",
       "      <th>1</th>\n",
       "      <td>0.8</td>\n",
       "      <td>0.4</td>\n",
       "      <td>0.766078</td>\n",
       "      <td>0.316228</td>\n",
       "      <td>0.618817</td>\n",
       "      <td>0.388716</td>\n",
       "      <td>2.449490</td>\n",
       "      <td>0.3</td>\n",
       "      <td>0.1</td>\n",
       "      <td>0.3</td>\n",
       "    </tr>\n",
       "    <tr>\n",
       "      <th>2</th>\n",
       "      <td>0.0</td>\n",
       "      <td>0.0</td>\n",
       "      <td>-1.000000</td>\n",
       "      <td>0.316228</td>\n",
       "      <td>0.641586</td>\n",
       "      <td>0.347275</td>\n",
       "      <td>3.316625</td>\n",
       "      <td>0.5</td>\n",
       "      <td>0.7</td>\n",
       "      <td>0.1</td>\n",
       "    </tr>\n",
       "    <tr>\n",
       "      <th>3</th>\n",
       "      <td>0.9</td>\n",
       "      <td>0.2</td>\n",
       "      <td>0.580948</td>\n",
       "      <td>0.374166</td>\n",
       "      <td>0.542949</td>\n",
       "      <td>0.294958</td>\n",
       "      <td>2.000000</td>\n",
       "      <td>0.6</td>\n",
       "      <td>0.9</td>\n",
       "      <td>0.1</td>\n",
       "    </tr>\n",
       "    <tr>\n",
       "      <th>4</th>\n",
       "      <td>0.7</td>\n",
       "      <td>0.6</td>\n",
       "      <td>0.840759</td>\n",
       "      <td>0.316070</td>\n",
       "      <td>0.565832</td>\n",
       "      <td>0.365103</td>\n",
       "      <td>2.000000</td>\n",
       "      <td>0.4</td>\n",
       "      <td>0.6</td>\n",
       "      <td>0.0</td>\n",
       "    </tr>\n",
       "  </tbody>\n",
       "</table>\n",
       "</div>"
      ],
      "text/plain": [
       "   ps_reg_01  ps_reg_02  ps_reg_03  ps_car_12  ps_car_13  ps_car_14  \\\n",
       "0        0.7        0.2   0.718070   0.400000   0.883679   0.370810   \n",
       "1        0.8        0.4   0.766078   0.316228   0.618817   0.388716   \n",
       "2        0.0        0.0  -1.000000   0.316228   0.641586   0.347275   \n",
       "3        0.9        0.2   0.580948   0.374166   0.542949   0.294958   \n",
       "4        0.7        0.6   0.840759   0.316070   0.565832   0.365103   \n",
       "\n",
       "   ps_car_15  ps_calc_01  ps_calc_02  ps_calc_03  \n",
       "0   3.605551         0.6         0.5         0.2  \n",
       "1   2.449490         0.3         0.1         0.3  \n",
       "2   3.316625         0.5         0.7         0.1  \n",
       "3   2.000000         0.6         0.9         0.1  \n",
       "4   2.000000         0.4         0.6         0.0  "
      ]
     },
     "execution_count": 9,
     "metadata": {},
     "output_type": "execute_result"
    }
   ],
   "source": [
    "df[reg].head()"
   ]
  },
  {
   "cell_type": "code",
   "execution_count": 10,
   "metadata": {},
   "outputs": [],
   "source": [
    "df[reg] = df[reg].astype('float64')\n",
    "df[cat] = df[cat].astype('O')"
   ]
  },
  {
   "cell_type": "code",
   "execution_count": 11,
   "metadata": {},
   "outputs": [
    {
     "data": {
      "text/html": [
       "<div>\n",
       "<style scoped>\n",
       "    .dataframe tbody tr th:only-of-type {\n",
       "        vertical-align: middle;\n",
       "    }\n",
       "\n",
       "    .dataframe tbody tr th {\n",
       "        vertical-align: top;\n",
       "    }\n",
       "\n",
       "    .dataframe thead th {\n",
       "        text-align: right;\n",
       "    }\n",
       "</style>\n",
       "<table border=\"1\" class=\"dataframe\">\n",
       "  <thead>\n",
       "    <tr style=\"text-align: right;\">\n",
       "      <th></th>\n",
       "      <th>ps_ind_01</th>\n",
       "      <th>ps_ind_02_cat</th>\n",
       "      <th>ps_ind_03</th>\n",
       "      <th>ps_ind_04_cat</th>\n",
       "      <th>ps_ind_05_cat</th>\n",
       "      <th>ps_ind_06_bin</th>\n",
       "      <th>ps_ind_07_bin</th>\n",
       "      <th>ps_ind_08_bin</th>\n",
       "      <th>ps_ind_09_bin</th>\n",
       "      <th>ps_ind_10_bin</th>\n",
       "      <th>ps_ind_11_bin</th>\n",
       "      <th>ps_ind_12_bin</th>\n",
       "      <th>ps_ind_13_bin</th>\n",
       "      <th>ps_ind_14</th>\n",
       "      <th>ps_ind_15</th>\n",
       "      <th>ps_ind_16_bin</th>\n",
       "      <th>ps_ind_17_bin</th>\n",
       "      <th>ps_ind_18_bin</th>\n",
       "      <th>ps_car_01_cat</th>\n",
       "      <th>ps_car_02_cat</th>\n",
       "      <th>ps_car_03_cat</th>\n",
       "      <th>ps_car_04_cat</th>\n",
       "      <th>ps_car_05_cat</th>\n",
       "      <th>ps_car_06_cat</th>\n",
       "      <th>ps_car_07_cat</th>\n",
       "      <th>ps_car_08_cat</th>\n",
       "      <th>ps_car_09_cat</th>\n",
       "      <th>ps_car_10_cat</th>\n",
       "      <th>ps_car_11_cat</th>\n",
       "      <th>ps_car_11</th>\n",
       "      <th>ps_calc_04</th>\n",
       "      <th>ps_calc_05</th>\n",
       "      <th>ps_calc_06</th>\n",
       "      <th>ps_calc_07</th>\n",
       "      <th>ps_calc_08</th>\n",
       "      <th>ps_calc_09</th>\n",
       "      <th>ps_calc_10</th>\n",
       "      <th>ps_calc_11</th>\n",
       "      <th>ps_calc_12</th>\n",
       "      <th>ps_calc_13</th>\n",
       "      <th>ps_calc_14</th>\n",
       "      <th>ps_calc_15_bin</th>\n",
       "      <th>ps_calc_16_bin</th>\n",
       "      <th>ps_calc_17_bin</th>\n",
       "      <th>ps_calc_18_bin</th>\n",
       "      <th>ps_calc_19_bin</th>\n",
       "      <th>ps_calc_20_bin</th>\n",
       "    </tr>\n",
       "  </thead>\n",
       "  <tbody>\n",
       "    <tr>\n",
       "      <th>count</th>\n",
       "      <td>499120</td>\n",
       "      <td>499120</td>\n",
       "      <td>499120</td>\n",
       "      <td>499120</td>\n",
       "      <td>499120</td>\n",
       "      <td>499120</td>\n",
       "      <td>499120</td>\n",
       "      <td>499120</td>\n",
       "      <td>499120</td>\n",
       "      <td>499120</td>\n",
       "      <td>499120</td>\n",
       "      <td>499120</td>\n",
       "      <td>499120</td>\n",
       "      <td>499120</td>\n",
       "      <td>499120</td>\n",
       "      <td>499120</td>\n",
       "      <td>499120</td>\n",
       "      <td>499120</td>\n",
       "      <td>499120</td>\n",
       "      <td>499120</td>\n",
       "      <td>499120</td>\n",
       "      <td>499120</td>\n",
       "      <td>499120</td>\n",
       "      <td>499120</td>\n",
       "      <td>499120</td>\n",
       "      <td>499120</td>\n",
       "      <td>499120</td>\n",
       "      <td>499120</td>\n",
       "      <td>499120</td>\n",
       "      <td>499120</td>\n",
       "      <td>499120</td>\n",
       "      <td>499120</td>\n",
       "      <td>499120</td>\n",
       "      <td>499120</td>\n",
       "      <td>499120</td>\n",
       "      <td>499120</td>\n",
       "      <td>499120</td>\n",
       "      <td>499120</td>\n",
       "      <td>499120</td>\n",
       "      <td>499120</td>\n",
       "      <td>499120</td>\n",
       "      <td>499120</td>\n",
       "      <td>499120</td>\n",
       "      <td>499120</td>\n",
       "      <td>499120</td>\n",
       "      <td>499120</td>\n",
       "      <td>499120</td>\n",
       "    </tr>\n",
       "    <tr>\n",
       "      <th>unique</th>\n",
       "      <td>8</td>\n",
       "      <td>5</td>\n",
       "      <td>12</td>\n",
       "      <td>3</td>\n",
       "      <td>8</td>\n",
       "      <td>2</td>\n",
       "      <td>2</td>\n",
       "      <td>2</td>\n",
       "      <td>2</td>\n",
       "      <td>2</td>\n",
       "      <td>2</td>\n",
       "      <td>2</td>\n",
       "      <td>2</td>\n",
       "      <td>5</td>\n",
       "      <td>14</td>\n",
       "      <td>2</td>\n",
       "      <td>2</td>\n",
       "      <td>2</td>\n",
       "      <td>13</td>\n",
       "      <td>3</td>\n",
       "      <td>3</td>\n",
       "      <td>10</td>\n",
       "      <td>3</td>\n",
       "      <td>18</td>\n",
       "      <td>3</td>\n",
       "      <td>2</td>\n",
       "      <td>6</td>\n",
       "      <td>3</td>\n",
       "      <td>104</td>\n",
       "      <td>5</td>\n",
       "      <td>6</td>\n",
       "      <td>7</td>\n",
       "      <td>11</td>\n",
       "      <td>10</td>\n",
       "      <td>11</td>\n",
       "      <td>8</td>\n",
       "      <td>26</td>\n",
       "      <td>19</td>\n",
       "      <td>11</td>\n",
       "      <td>14</td>\n",
       "      <td>24</td>\n",
       "      <td>2</td>\n",
       "      <td>2</td>\n",
       "      <td>2</td>\n",
       "      <td>2</td>\n",
       "      <td>2</td>\n",
       "      <td>2</td>\n",
       "    </tr>\n",
       "    <tr>\n",
       "      <th>top</th>\n",
       "      <td>0</td>\n",
       "      <td>1</td>\n",
       "      <td>2</td>\n",
       "      <td>0</td>\n",
       "      <td>0</td>\n",
       "      <td>0</td>\n",
       "      <td>0</td>\n",
       "      <td>0</td>\n",
       "      <td>0</td>\n",
       "      <td>0</td>\n",
       "      <td>0</td>\n",
       "      <td>0</td>\n",
       "      <td>0</td>\n",
       "      <td>0</td>\n",
       "      <td>7</td>\n",
       "      <td>1</td>\n",
       "      <td>0</td>\n",
       "      <td>0</td>\n",
       "      <td>11</td>\n",
       "      <td>1</td>\n",
       "      <td>-1</td>\n",
       "      <td>0</td>\n",
       "      <td>-1</td>\n",
       "      <td>11</td>\n",
       "      <td>1</td>\n",
       "      <td>1</td>\n",
       "      <td>2</td>\n",
       "      <td>1</td>\n",
       "      <td>104</td>\n",
       "      <td>3</td>\n",
       "      <td>2</td>\n",
       "      <td>2</td>\n",
       "      <td>8</td>\n",
       "      <td>3</td>\n",
       "      <td>9</td>\n",
       "      <td>2</td>\n",
       "      <td>8</td>\n",
       "      <td>5</td>\n",
       "      <td>1</td>\n",
       "      <td>2</td>\n",
       "      <td>7</td>\n",
       "      <td>0</td>\n",
       "      <td>1</td>\n",
       "      <td>1</td>\n",
       "      <td>0</td>\n",
       "      <td>0</td>\n",
       "      <td>0</td>\n",
       "    </tr>\n",
       "    <tr>\n",
       "      <th>freq</th>\n",
       "      <td>157091</td>\n",
       "      <td>361934</td>\n",
       "      <td>80545</td>\n",
       "      <td>290735</td>\n",
       "      <td>442648</td>\n",
       "      <td>302625</td>\n",
       "      <td>370927</td>\n",
       "      <td>417321</td>\n",
       "      <td>406487</td>\n",
       "      <td>498937</td>\n",
       "      <td>498280</td>\n",
       "      <td>494400</td>\n",
       "      <td>498657</td>\n",
       "      <td>493770</td>\n",
       "      <td>54797</td>\n",
       "      <td>330006</td>\n",
       "      <td>438623</td>\n",
       "      <td>422624</td>\n",
       "      <td>173931</td>\n",
       "      <td>414249</td>\n",
       "      <td>345221</td>\n",
       "      <td>416525</td>\n",
       "      <td>223678</td>\n",
       "      <td>110352</td>\n",
       "      <td>463814</td>\n",
       "      <td>415347</td>\n",
       "      <td>296380</td>\n",
       "      <td>494879</td>\n",
       "      <td>71138</td>\n",
       "      <td>267437</td>\n",
       "      <td>162831</td>\n",
       "      <td>163652</td>\n",
       "      <td>146665</td>\n",
       "      <td>136352</td>\n",
       "      <td>127277</td>\n",
       "      <td>153185</td>\n",
       "      <td>68798</td>\n",
       "      <td>85914</td>\n",
       "      <td>170372</td>\n",
       "      <td>116790</td>\n",
       "      <td>72819</td>\n",
       "      <td>437850</td>\n",
       "      <td>313346</td>\n",
       "      <td>276760</td>\n",
       "      <td>355759</td>\n",
       "      <td>324886</td>\n",
       "      <td>422517</td>\n",
       "    </tr>\n",
       "  </tbody>\n",
       "</table>\n",
       "</div>"
      ],
      "text/plain": [
       "        ps_ind_01  ps_ind_02_cat  ps_ind_03  ps_ind_04_cat  ps_ind_05_cat  \\\n",
       "count      499120         499120     499120         499120         499120   \n",
       "unique          8              5         12              3              8   \n",
       "top             0              1          2              0              0   \n",
       "freq       157091         361934      80545         290735         442648   \n",
       "\n",
       "        ps_ind_06_bin  ps_ind_07_bin  ps_ind_08_bin  ps_ind_09_bin  \\\n",
       "count          499120         499120         499120         499120   \n",
       "unique              2              2              2              2   \n",
       "top                 0              0              0              0   \n",
       "freq           302625         370927         417321         406487   \n",
       "\n",
       "        ps_ind_10_bin  ps_ind_11_bin  ps_ind_12_bin  ps_ind_13_bin  ps_ind_14  \\\n",
       "count          499120         499120         499120         499120     499120   \n",
       "unique              2              2              2              2          5   \n",
       "top                 0              0              0              0          0   \n",
       "freq           498937         498280         494400         498657     493770   \n",
       "\n",
       "        ps_ind_15  ps_ind_16_bin  ps_ind_17_bin  ps_ind_18_bin  ps_car_01_cat  \\\n",
       "count      499120         499120         499120         499120         499120   \n",
       "unique         14              2              2              2             13   \n",
       "top             7              1              0              0             11   \n",
       "freq        54797         330006         438623         422624         173931   \n",
       "\n",
       "        ps_car_02_cat  ps_car_03_cat  ps_car_04_cat  ps_car_05_cat  \\\n",
       "count          499120         499120         499120         499120   \n",
       "unique              3              3             10              3   \n",
       "top                 1             -1              0             -1   \n",
       "freq           414249         345221         416525         223678   \n",
       "\n",
       "        ps_car_06_cat  ps_car_07_cat  ps_car_08_cat  ps_car_09_cat  \\\n",
       "count          499120         499120         499120         499120   \n",
       "unique             18              3              2              6   \n",
       "top                11              1              1              2   \n",
       "freq           110352         463814         415347         296380   \n",
       "\n",
       "        ps_car_10_cat  ps_car_11_cat  ps_car_11  ps_calc_04  ps_calc_05  \\\n",
       "count          499120         499120     499120      499120      499120   \n",
       "unique              3            104          5           6           7   \n",
       "top                 1            104          3           2           2   \n",
       "freq           494879          71138     267437      162831      163652   \n",
       "\n",
       "        ps_calc_06  ps_calc_07  ps_calc_08  ps_calc_09  ps_calc_10  \\\n",
       "count       499120      499120      499120      499120      499120   \n",
       "unique          11          10          11           8          26   \n",
       "top              8           3           9           2           8   \n",
       "freq        146665      136352      127277      153185       68798   \n",
       "\n",
       "        ps_calc_11  ps_calc_12  ps_calc_13  ps_calc_14  ps_calc_15_bin  \\\n",
       "count       499120      499120      499120      499120          499120   \n",
       "unique          19          11          14          24               2   \n",
       "top              5           1           2           7               0   \n",
       "freq         85914      170372      116790       72819          437850   \n",
       "\n",
       "        ps_calc_16_bin  ps_calc_17_bin  ps_calc_18_bin  ps_calc_19_bin  \\\n",
       "count           499120          499120          499120          499120   \n",
       "unique               2               2               2               2   \n",
       "top                  1               1               0               0   \n",
       "freq            313346          276760          355759          324886   \n",
       "\n",
       "        ps_calc_20_bin  \n",
       "count           499120  \n",
       "unique               2  \n",
       "top                  0  \n",
       "freq            422517  "
      ]
     },
     "execution_count": 11,
     "metadata": {},
     "output_type": "execute_result"
    }
   ],
   "source": [
    "df[cat].describe()"
   ]
  },
  {
   "cell_type": "code",
   "execution_count": null,
   "metadata": {},
   "outputs": [],
   "source": []
  },
  {
   "cell_type": "code",
   "execution_count": 12,
   "metadata": {},
   "outputs": [
    {
     "data": {
      "text/plain": [
       "[]"
      ]
     },
     "execution_count": 12,
     "metadata": {},
     "output_type": "execute_result"
    }
   ],
   "source": [
    "rows, columns = df.shape\n",
    "drop_nunique_col = []\n",
    "for col in df.columns:\n",
    "    if df[col].nunique == rows or df[col].nunique == 1:\n",
    "        drop_nunique_col.append(col)\n",
    "drop_nunique_col    "
   ]
  },
  {
   "cell_type": "raw",
   "metadata": {},
   "source": [
    "#oversampling on minority\n",
    "smote = SMOTE()\n",
    "X, y = smote.fit_resample(X, y)"
   ]
  },
  {
   "cell_type": "code",
   "execution_count": 13,
   "metadata": {},
   "outputs": [],
   "source": [
    "X_train, X_test, y_train, y_test = train_test_split(df, y, test_size=0.85, random_state=0)"
   ]
  },
  {
   "cell_type": "code",
   "execution_count": null,
   "metadata": {},
   "outputs": [],
   "source": []
  },
  {
   "cell_type": "code",
   "execution_count": 14,
   "metadata": {},
   "outputs": [],
   "source": [
    "for col in X_train.columns:\n",
    "    if X_train[col].dtype == 'object':\n",
    "        X_train[col] = X_train[col].fillna(X_train[col].mode()[0])\n",
    "        X_test[col] = X_test[col].fillna(X_train[col].mode()[0])\n",
    "    else:\n",
    "        X_train[col] = X_train[col].fillna(X_train[col].mean())\n",
    "        X_test[col] = X_test[col].fillna(X_train[col].mean())"
   ]
  },
  {
   "cell_type": "code",
   "execution_count": null,
   "metadata": {},
   "outputs": [],
   "source": []
  },
  {
   "cell_type": "code",
   "execution_count": 15,
   "metadata": {},
   "outputs": [
    {
     "name": "stdout",
     "output_type": "stream",
     "text": [
      "0    72153\n",
      "1     2715\n",
      "Name: target, dtype: int64\n",
      "0    0.963736\n",
      "1    0.036264\n",
      "Name: target, dtype: float64\n",
      "(74868,)\n",
      "0    72153\n",
      "1    72153\n",
      "Name: target, dtype: int64\n",
      "0    0.5\n",
      "1    0.5\n",
      "Name: target, dtype: float64\n",
      "(144306,)\n"
     ]
    }
   ],
   "source": [
    "\n",
    "print(y_train.value_counts())\n",
    "print(y_train.value_counts(normalize=True))\n",
    "print(y_train.shape)\n",
    "\n",
    "# sampling_strategy=0.3, k_neighbors=8\n",
    "smort = SMOTE()  ## SMOTE Parameters\n",
    "X_train, y_train = smort.fit_resample(X_train, y_train)\n",
    "\n",
    "print(y_train.value_counts())\n",
    "print(y_train.value_counts(normalize=True))\n",
    "print(y_train.shape)\n"
   ]
  },
  {
   "cell_type": "markdown",
   "metadata": {},
   "source": [
    "### Data Preprocessing -Lable Encoding, MinMax Scaling, Chi2Test"
   ]
  },
  {
   "cell_type": "code",
   "execution_count": 16,
   "metadata": {},
   "outputs": [],
   "source": [
    "class LabelEncoderExt(object):\n",
    "    def __init__(self):\n",
    "        \"\"\"\n",
    "        It differs from LabelEncoder by handling new classes and providing a value for it [Unknown]\n",
    "        Unknown will be added in fit and transform will take care of new item. It gives unknown class id\n",
    "        \"\"\"\n",
    "        self.label_encoder = LabelEncoder()\n",
    "        # self.classes_ = self.label_encoder.classes_\n",
    "\n",
    "    def fit(self, data_list):\n",
    "        \"\"\"\n",
    "        This will fit the encoder for all the unique values and introduce unknown value\n",
    "        :param data_list: A list of string\n",
    "        :return: self\n",
    "        \"\"\"\n",
    "        self.label_encoder = self.label_encoder.fit(list(data_list) + ['Unknown'])\n",
    "        self.classes_ = self.label_encoder.classes_\n",
    "\n",
    "        return self\n",
    "\n",
    "    def transform(self, data_list):\n",
    "        \"\"\"\n",
    "        This will transform the data_list to id list where the new values get assigned to Unknown class\n",
    "        :param data_list:\n",
    "        :return:\n",
    "        \"\"\"\n",
    "        new_data_list = list(data_list)\n",
    "        for unique_item in np.unique(data_list):\n",
    "            if unique_item not in self.label_encoder.classes_:\n",
    "                new_data_list = ['Unknown' if x==unique_item else x for x in new_data_list]\n",
    "\n",
    "        return self.label_encoder.transform(new_data_list)"
   ]
  },
  {
   "cell_type": "code",
   "execution_count": 17,
   "metadata": {},
   "outputs": [],
   "source": [
    "Le = LabelEncoderExt()\n",
    "for col in X_train.columns:\n",
    "    if X_train[col].dtype == 'object':\n",
    "        Le.fit(X_train[col])\n",
    "        X_train[col] = Le.transform(X_train[col]).asdtype('int64')\n",
    "        X_test[col] = Le.transform(X_test[col]).asdtype('int64')"
   ]
  },
  {
   "cell_type": "code",
   "execution_count": 18,
   "metadata": {},
   "outputs": [],
   "source": [
    "mMs = MinMaxScaler()\n",
    "for col in reg:\n",
    "        #mMs.fit([X_train[col]])\n",
    "        X_train[col] = mMs.fit_transform(np.array(X_train[col]).reshape(-1, 1))\n",
    "        X_test[col] = mMs.transform(np.array(X_test[col]).reshape(-1, 1))"
   ]
  },
  {
   "cell_type": "raw",
   "metadata": {},
   "source": [
    "'''\n",
    "ch2_Value = []\n",
    "pValue = []\n",
    "for col in cat:\n",
    "    ct = pd.crosstab(X_train[col], y_train)   \n",
    "    ch2_Value.append(stats.chi2_contingency(ct)[0])\n",
    "    pValue.append(stats.chi2_contingency(ct)[1])\n",
    "    \n",
    "ch2_df = pd.DataFrame()\n",
    "ch2_df['cat_columns'] = cat\n",
    "ch2_df['ch2_value'] = ch2_Value\n",
    "ch2_df['pValue'] = pValue\n",
    "\n",
    "\n",
    "\n",
    "print(\"Before Feature Selection[Ch2_Test] No of Categorical Columns: =======>\", len(cat))\n",
    "ch2_test_af_col = ch2_df[ch2_df['pValue']<0.06]['cat_columns'].tolist()\n",
    "print(\"After Feature Selection[Ch2_Test] No of Categorical Columns: ========>\", len(ch2_test_af_col))\n",
    "\n",
    "final_col = reg + ch2_test_af_col     ## combing continous and ch2 test outcome columns \n",
    "\n",
    "X_train = X_train[final_col]\n",
    "X_test = X_test[final_col]\n",
    "\n",
    "\n",
    "print(\"Final Number of Columns : ========>\", len(final_col))\n",
    "'''"
   ]
  },
  {
   "cell_type": "code",
   "execution_count": null,
   "metadata": {},
   "outputs": [],
   "source": []
  },
  {
   "cell_type": "markdown",
   "metadata": {},
   "source": [
    "## Checking Feature Importance"
   ]
  },
  {
   "cell_type": "code",
   "execution_count": 19,
   "metadata": {},
   "outputs": [],
   "source": [
    "def featureIMP(model, X):\n",
    "    \n",
    "    fimpdf = pd.DataFrame(columns=['cName', 'f_imp'])\n",
    "    fimpdf['f_imp'] = model.feature_importances_\n",
    "    fimpdf['cName'] = X.columns\n",
    "    \n",
    "    fimpdf = fimpdf.sort_values('f_imp', ascending=False)\n",
    "    \n",
    "    plt.figure(figsize=(8, 8))\n",
    "    plt.plot(np.arange(1, fimpdf.shape[0]+1), np.cumsum(fimpdf['f_imp']))\n",
    "    plt.xlabel('No of Input Features in Train Data')\n",
    "    plt.ylabel('Cumulative Sum of FeatureImportance')\n",
    "    plt.title('Feature Importance Plot')\n",
    "    \n",
    "    fimpdf.reset_index(drop=True, inplace=True)\n",
    "\n",
    "    return fimpdf"
   ]
  },
  {
   "cell_type": "code",
   "execution_count": 20,
   "metadata": {},
   "outputs": [],
   "source": [
    "#feature_df = featureIMP(rf, X_train)"
   ]
  },
  {
   "cell_type": "code",
   "execution_count": 21,
   "metadata": {},
   "outputs": [],
   "source": [
    "#final_col = feature_df[:20]['cName'].tolist()"
   ]
  },
  {
   "cell_type": "markdown",
   "metadata": {},
   "source": [
    "## HyperParameter Tuning"
   ]
  },
  {
   "cell_type": "code",
   "execution_count": 22,
   "metadata": {},
   "outputs": [],
   "source": [
    "rf_hyp = RandomForestClassifier(n_jobs=-1)"
   ]
  },
  {
   "cell_type": "code",
   "execution_count": 23,
   "metadata": {},
   "outputs": [],
   "source": [
    "rf_params = {\n",
    "    'n_estimators': np.arange(10,100,10),\n",
    "    'criterion' : ['gini', 'entropy'], \n",
    "    'max_depth' : np.arange(2,12,1), \n",
    "    'max_leaf_nodes': np.arange(2,12,1),\n",
    "    'min_samples_leaf': np.arange(2,12,1)\n",
    "}"
   ]
  },
  {
   "cell_type": "code",
   "execution_count": 24,
   "metadata": {},
   "outputs": [],
   "source": [
    "rsCV = RandomizedSearchCV(estimator=rf_hyp, param_distributions=rf_params, n_iter=55, scoring='roc_auc')"
   ]
  },
  {
   "cell_type": "code",
   "execution_count": 25,
   "metadata": {},
   "outputs": [
    {
     "data": {
      "text/plain": [
       "RandomizedSearchCV(estimator=RandomForestClassifier(n_jobs=-1), n_iter=55,\n",
       "                   param_distributions={'criterion': ['gini', 'entropy'],\n",
       "                                        'max_depth': array([ 2,  3,  4,  5,  6,  7,  8,  9, 10, 11]),\n",
       "                                        'max_leaf_nodes': array([ 2,  3,  4,  5,  6,  7,  8,  9, 10, 11]),\n",
       "                                        'min_samples_leaf': array([ 2,  3,  4,  5,  6,  7,  8,  9, 10, 11]),\n",
       "                                        'n_estimators': array([10, 20, 30, 40, 50, 60, 70, 80, 90])},\n",
       "                   scoring='roc_auc')"
      ]
     },
     "execution_count": 25,
     "metadata": {},
     "output_type": "execute_result"
    }
   ],
   "source": [
    "rsCV.fit(X_train, y_train)"
   ]
  },
  {
   "cell_type": "code",
   "execution_count": 26,
   "metadata": {},
   "outputs": [],
   "source": [
    "best_params = rsCV.best_params_"
   ]
  },
  {
   "cell_type": "code",
   "execution_count": 27,
   "metadata": {},
   "outputs": [
    {
     "data": {
      "text/plain": [
       "{'n_estimators': 70,\n",
       " 'min_samples_leaf': 3,\n",
       " 'max_leaf_nodes': 11,\n",
       " 'max_depth': 8,\n",
       " 'criterion': 'entropy'}"
      ]
     },
     "execution_count": 27,
     "metadata": {},
     "output_type": "execute_result"
    }
   ],
   "source": [
    "best_params"
   ]
  },
  {
   "cell_type": "code",
   "execution_count": 28,
   "metadata": {},
   "outputs": [],
   "source": [
    "rf_best_Model = rsCV.best_estimator_ ## Choosing Best estimator with best parameters"
   ]
  },
  {
   "cell_type": "code",
   "execution_count": 29,
   "metadata": {},
   "outputs": [
    {
     "data": {
      "text/plain": [
       "RandomForestClassifier(criterion='entropy', max_depth=8, max_leaf_nodes=11,\n",
       "                       min_samples_leaf=3, n_estimators=70, n_jobs=-1)"
      ]
     },
     "execution_count": 29,
     "metadata": {},
     "output_type": "execute_result"
    }
   ],
   "source": [
    "rf_best_Model.fit(X_train, y_train)"
   ]
  },
  {
   "cell_type": "code",
   "execution_count": 30,
   "metadata": {},
   "outputs": [],
   "source": [
    "def cross_val_model(X, y, model, n_splits=3, n_folds=3):\n",
    "    'Do split dataset and calculate cross_score'\n",
    "    X = np.array(X)\n",
    "    y = np.array(y)\n",
    "    folds = list(StratifiedKFold(n_splits=n_splits, shuffle=True, random_state=2020).split(X, y))\n",
    "\n",
    "    for j, (train_idx, test_idx) in enumerate(folds):\n",
    "        X_train = X[train_idx]\n",
    "        y_train = y[train_idx]\n",
    "        X_holdout = X[test_idx]\n",
    "        y_holdout = y[test_idx]\n",
    "\n",
    "        print (\"Fit %s Split %d\" % (str(model).split('(')[0], j+1))\n",
    "        model.fit(X_train, y_train)\n",
    "        cross_score = cross_val_score(model, X_holdout, y_holdout, cv=n_folds, scoring='roc_auc')\n",
    "        print(\"         Mean cross_score of %d Folds : =========:> %f\" % (n_folds, cross_score.mean()))"
   ]
  },
  {
   "cell_type": "code",
   "execution_count": 31,
   "metadata": {},
   "outputs": [
    {
     "name": "stdout",
     "output_type": "stream",
     "text": [
      "Fit RandomForestClassifier Split 1\n",
      "         Mean cross_score of 5 Folds : =========:> 0.941647\n",
      "Fit RandomForestClassifier Split 2\n",
      "         Mean cross_score of 5 Folds : =========:> 0.938074\n",
      "Fit RandomForestClassifier Split 3\n",
      "         Mean cross_score of 5 Folds : =========:> 0.945896\n",
      "Fit RandomForestClassifier Split 4\n",
      "         Mean cross_score of 5 Folds : =========:> 0.943000\n",
      "Fit RandomForestClassifier Split 5\n",
      "         Mean cross_score of 5 Folds : =========:> 0.939774\n"
     ]
    }
   ],
   "source": [
    "cross_val_model(X_train, y_train, rf_best_Model, n_splits=5, n_folds=5)"
   ]
  },
  {
   "cell_type": "code",
   "execution_count": 32,
   "metadata": {},
   "outputs": [],
   "source": [
    "y_predict = rf_best_Model.predict(X_test)\n",
    "y_predict_proba = rf_best_Model.predict_proba(X_test)[::,1]"
   ]
  },
  {
   "cell_type": "code",
   "execution_count": 33,
   "metadata": {},
   "outputs": [],
   "source": [
    "train_acc = rf_best_Model.score(X_train, y_train)\n",
    "test_acc =  rf_best_Model.score(X_test, y_test)\n",
    "\n",
    "recallScore = recall_score(y_test, y_predict)\n",
    "precisionScore = precision_score(y_test, y_predict)\n",
    "\n",
    "f1Score = f1_score(y_test, y_predict)\n",
    "auc = roc_auc_score(y_test, y_predict_proba)\n",
    "fpr, tpr, thrshould = roc_curve(y_test, y_predict_proba)"
   ]
  },
  {
   "cell_type": "code",
   "execution_count": 34,
   "metadata": {},
   "outputs": [
    {
     "name": "stdout",
     "output_type": "stream",
     "text": [
      "Model Name:  RandomForestClassifier\n",
      "ConfusionMatrix: \n",
      " [[374850  33892]\n",
      " [ 13665   1845]]\n",
      "TrainAcc: ====> 0.876817318753205\n",
      "TestAccuracy : ====> 0.8879038873122578\n",
      "recall: ====> 0.11895551257253385\n",
      "Precision: ====> 0.05162716512298178\n",
      "F1Score: ====> 0.07200421488087108\n",
      "AUC: ====> 0.5571842900489115\n"
     ]
    }
   ],
   "source": [
    "print(\"Model Name: \", str(rf_best_Model).split(\"(\")[0])\n",
    "print(\"ConfusionMatrix: \\n\", confusion_matrix(y_test, y_predict))    \n",
    "print(\"TrainAcc: ====> {}\".format(train_acc))\n",
    "print(\"TestAccuracy : ====> {}\".format(test_acc))\n",
    "print(\"recall: ====> {}\".format(recallScore))\n",
    "print(\"Precision: ====> {}\".format(precisionScore))\n",
    "print(\"F1Score: ====> {}\".format(f1Score))\n",
    "print(\"AUC: ====> {}\".format(auc))"
   ]
  },
  {
   "cell_type": "code",
   "execution_count": 35,
   "metadata": {},
   "outputs": [
    {
     "data": {
      "image/png": "[encoded data removed]",
      "text/plain": [
       "<Figure size 576x576 with 1 Axes>"
      ]
     },
     "metadata": {
      "needs_background": "light"
     },
     "output_type": "display_data"
    }
   ],
   "source": [
    "plt.figure(figsize=(8,8))\n",
    "plt.plot(fpr, tpr, label=\"Model Name: \"+str(rf_best_Model).split(\"(\")[0]+\"\\n\"+\"auc=\"+str(auc))\n",
    "plt.xlabel('False Positive Rate')\n",
    "plt.ylabel('True Positive Rate')\n",
    "plt.title('Area Under The Curve AUC-ROC')\n",
    "\n",
    "plt.legend(loc= 7)\n",
    "plt.show()"
   ]
  },
  {
   "cell_type": "code",
   "execution_count": null,
   "metadata": {},
   "outputs": [],
   "source": []
  }
 ],
 "metadata": {
  "kernelspec": {
   "display_name": "Python 3 (ipykernel)",
   "language": "python",
   "name": "python3"
  },
  "language_info": {
   "codemirror_mode": {
    "name": "ipython",
    "version": 3
   },
   "file_extension": ".py",
   "mimetype": "text/x-python",
   "name": "python",
   "nbconvert_exporter": "python",
   "pygments_lexer": "ipython3",
   "version": "3.9.7"
  }
 },
 "nbformat": 4,
 "nbformat_minor": 2
}
