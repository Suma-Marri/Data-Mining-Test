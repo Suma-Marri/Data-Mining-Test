{
 "cells": [
  {
   "cell_type": "markdown",
   "metadata": {},
   "source": [
    "Install & import packages"
   ]
  },
  {
   "cell_type": "code",
   "execution_count": 1,
   "metadata": {
    "scrolled": true
   },
   "outputs": [],
   "source": [
    "!pip install --quiet tqdm"
   ]
  },
  {
   "cell_type": "code",
   "execution_count": 2,
   "metadata": {},
   "outputs": [
    {
     "name": "stdout",
     "output_type": "stream",
     "text": [
      "Requirement already satisfied: pandas in c:\\users\\suma marri\\anaconda3\\lib\\site-packages (1.4.2)\n",
      "Requirement already satisfied: pytz>=2020.1 in c:\\users\\suma marri\\anaconda3\\lib\\site-packages (from pandas) (2021.3)\n",
      "Requirement already satisfied: numpy>=1.18.5 in c:\\users\\suma marri\\anaconda3\\lib\\site-packages (from pandas) (1.20.3)\n",
      "Requirement already satisfied: python-dateutil>=2.8.1 in c:\\users\\suma marri\\anaconda3\\lib\\site-packages (from pandas) (2.8.2)\n",
      "Requirement already satisfied: six>=1.5 in c:\\users\\suma marri\\anaconda3\\lib\\site-packages (from python-dateutil>=2.8.1->pandas) (1.16.0)\n"
     ]
    }
   ],
   "source": [
    "!pip install --upgrade pandas"
   ]
  },
  {
   "cell_type": "code",
   "execution_count": 3,
   "metadata": {},
   "outputs": [],
   "source": [
    "import pandas as pd\n",
    "import numpy as np\n",
    "import matplotlib.pyplot as plt\n",
    "%matplotlib inline\n",
    "\n",
    "from scipy.stats import skewtest, boxcox\n",
    "from sklearn.base import TransformerMixin, BaseEstimator\n",
    "from tqdm import tqdm"
   ]
  },
  {
   "cell_type": "markdown",
   "metadata": {},
   "source": [
    "# Load the data"
   ]
  },
  {
   "cell_type": "code",
   "execution_count": 4,
   "metadata": {},
   "outputs": [],
   "source": [
    "# raw data\n",
    "train = pd.read_csv('./TRAIN.csv')"
   ]
  },
  {
   "cell_type": "code",
   "execution_count": 5,
   "metadata": {},
   "outputs": [
    {
     "data": {
      "text/plain": [
       "(499120, 59)"
      ]
     },
     "execution_count": 5,
     "metadata": {},
     "output_type": "execute_result"
    }
   ],
   "source": [
    "train.shape"
   ]
  },
  {
   "cell_type": "code",
   "execution_count": 6,
   "metadata": {},
   "outputs": [
    {
     "name": "stdout",
     "output_type": "stream",
     "text": [
      "<class 'pandas.core.frame.DataFrame'>\n",
      "RangeIndex: 499120 entries, 0 to 499119\n",
      "Data columns (total 59 columns):\n",
      " #   Column          Non-Null Count   Dtype  \n",
      "---  ------          --------------   -----  \n",
      " 0   id              499120 non-null  int64  \n",
      " 1   target          499120 non-null  int64  \n",
      " 2   ps_ind_01       499120 non-null  int64  \n",
      " 3   ps_ind_02_cat   499120 non-null  int64  \n",
      " 4   ps_ind_03       499120 non-null  int64  \n",
      " 5   ps_ind_04_cat   499120 non-null  int64  \n",
      " 6   ps_ind_05_cat   499120 non-null  int64  \n",
      " 7   ps_ind_06_bin   499120 non-null  int64  \n",
      " 8   ps_ind_07_bin   499120 non-null  int64  \n",
      " 9   ps_ind_08_bin   499120 non-null  int64  \n",
      " 10  ps_ind_09_bin   499120 non-null  int64  \n",
      " 11  ps_ind_10_bin   499120 non-null  int64  \n",
      " 12  ps_ind_11_bin   499120 non-null  int64  \n",
      " 13  ps_ind_12_bin   499120 non-null  int64  \n",
      " 14  ps_ind_13_bin   499120 non-null  int64  \n",
      " 15  ps_ind_14       499120 non-null  int64  \n",
      " 16  ps_ind_15       499120 non-null  int64  \n",
      " 17  ps_ind_16_bin   499120 non-null  int64  \n",
      " 18  ps_ind_17_bin   499120 non-null  int64  \n",
      " 19  ps_ind_18_bin   499120 non-null  int64  \n",
      " 20  ps_reg_01       499120 non-null  float64\n",
      " 21  ps_reg_02       499120 non-null  float64\n",
      " 22  ps_reg_03       499120 non-null  float64\n",
      " 23  ps_car_01_cat   499120 non-null  int64  \n",
      " 24  ps_car_02_cat   499120 non-null  int64  \n",
      " 25  ps_car_03_cat   499120 non-null  int64  \n",
      " 26  ps_car_04_cat   499120 non-null  int64  \n",
      " 27  ps_car_05_cat   499120 non-null  int64  \n",
      " 28  ps_car_06_cat   499120 non-null  int64  \n",
      " 29  ps_car_07_cat   499120 non-null  int64  \n",
      " 30  ps_car_08_cat   499120 non-null  int64  \n",
      " 31  ps_car_09_cat   499120 non-null  int64  \n",
      " 32  ps_car_10_cat   499120 non-null  int64  \n",
      " 33  ps_car_11_cat   499120 non-null  int64  \n",
      " 34  ps_car_11       499120 non-null  int64  \n",
      " 35  ps_car_12       499120 non-null  float64\n",
      " 36  ps_car_13       499120 non-null  float64\n",
      " 37  ps_car_14       499120 non-null  float64\n",
      " 38  ps_car_15       499120 non-null  float64\n",
      " 39  ps_calc_01      499120 non-null  float64\n",
      " 40  ps_calc_02      499120 non-null  float64\n",
      " 41  ps_calc_03      499120 non-null  float64\n",
      " 42  ps_calc_04      499120 non-null  int64  \n",
      " 43  ps_calc_05      499120 non-null  int64  \n",
      " 44  ps_calc_06      499120 non-null  int64  \n",
      " 45  ps_calc_07      499120 non-null  int64  \n",
      " 46  ps_calc_08      499120 non-null  int64  \n",
      " 47  ps_calc_09      499120 non-null  int64  \n",
      " 48  ps_calc_10      499120 non-null  int64  \n",
      " 49  ps_calc_11      499120 non-null  int64  \n",
      " 50  ps_calc_12      499120 non-null  int64  \n",
      " 51  ps_calc_13      499120 non-null  int64  \n",
      " 52  ps_calc_14      499120 non-null  int64  \n",
      " 53  ps_calc_15_bin  499120 non-null  int64  \n",
      " 54  ps_calc_16_bin  499120 non-null  int64  \n",
      " 55  ps_calc_17_bin  499120 non-null  int64  \n",
      " 56  ps_calc_18_bin  499120 non-null  int64  \n",
      " 57  ps_calc_19_bin  499120 non-null  int64  \n",
      " 58  ps_calc_20_bin  499120 non-null  int64  \n",
      "dtypes: float64(10), int64(49)\n",
      "memory usage: 224.7 MB\n"
     ]
    }
   ],
   "source": [
    "train.info()"
   ]
  },
  {
   "cell_type": "raw",
   "metadata": {},
   "source": [
    "train = pd.read_pickle('./train.pkl')\n",
    "# test = pd.read_pickle('./test.pkl')"
   ]
  },
  {
   "cell_type": "markdown",
   "metadata": {},
   "source": [
    "train.shape"
   ]
  },
  {
   "cell_type": "raw",
   "metadata": {},
   "source": [
    "print('Train dataset has {} rows and {} columns'.format(train.shape[0], train.shape[1]))\n",
    "# print('Test dataset has {} rows and {} columns'.format(test.shape[0], test.shape[1]))"
   ]
  },
  {
   "cell_type": "markdown",
   "metadata": {},
   "source": [
    "Create a combined dataset to deskew, then split out again"
   ]
  },
  {
   "cell_type": "raw",
   "metadata": {},
   "source": [
    "target = train['target']\n",
    "train.drop('target', axis=1, inplace=True)\n",
    "train.drop('id', axis=1, inplace=True)"
   ]
  },
  {
   "cell_type": "raw",
   "metadata": {},
   "source": [
    "print('Train dataset has {} rows and {} columns'.format(train.shape[0], train.shape[1]))\n",
    "# print('Test dataset has {} rows and {} columns'.format(test.shape[0], test.shape[1]))"
   ]
  },
  {
   "cell_type": "raw",
   "metadata": {},
   "source": [
    "numeric_cols = []\n",
    "for col in train.columns:\n",
    "    if '_bin' in col:\n",
    "        pass\n",
    "    elif '_cat' in col:\n",
    "        pass\n",
    "    else:\n",
    "        numeric_cols.append(col)\n",
    "    \n",
    "        "
   ]
  },
  {
   "cell_type": "raw",
   "metadata": {},
   "source": [
    "len(numeric_cols)"
   ]
  },
  {
   "cell_type": "markdown",
   "metadata": {},
   "source": [
    "# Scale and PCA"
   ]
  },
  {
   "cell_type": "code",
   "execution_count": 7,
   "metadata": {},
   "outputs": [],
   "source": [
    "from sklearn.preprocessing import StandardScaler\n",
    "from sklearn.decomposition import PCA"
   ]
  },
  {
   "cell_type": "code",
   "execution_count": 8,
   "metadata": {},
   "outputs": [],
   "source": [
    "scaler = StandardScaler()\n",
    "train_sc = scaler.fit_transform(train)\n",
    "pca = PCA()\n",
    "pca_comp = pca.fit_transform(train_sc)"
   ]
  },
  {
   "cell_type": "code",
   "execution_count": 9,
   "metadata": {},
   "outputs": [
    {
     "data": {
      "text/plain": [
       "(499120, 59)"
      ]
     },
     "execution_count": 9,
     "metadata": {},
     "output_type": "execute_result"
    }
   ],
   "source": [
    "pca_comp.shape"
   ]
  },
  {
   "cell_type": "code",
   "execution_count": 10,
   "metadata": {},
   "outputs": [
    {
     "data": {
      "text/plain": [
       "(499120, 59)"
      ]
     },
     "execution_count": 10,
     "metadata": {},
     "output_type": "execute_result"
    }
   ],
   "source": [
    "train.shape"
   ]
  },
  {
   "cell_type": "code",
   "execution_count": null,
   "metadata": {},
   "outputs": [],
   "source": []
  },
  {
   "cell_type": "code",
   "execution_count": 11,
   "metadata": {},
   "outputs": [
    {
     "name": "stdout",
     "output_type": "stream",
     "text": [
      "The first 136 components explains 1.0 of the data: \n"
     ]
    }
   ],
   "source": [
    "n_comp_to_keep = 136\n",
    "print(\"The first {} components explains {} of the data: \"\n",
    "      .format(n_comp_to_keep , sum(pca.explained_variance_ratio_[:n_comp_to_keep])))"
   ]
  },
  {
   "cell_type": "code",
   "execution_count": 12,
   "metadata": {},
   "outputs": [
    {
     "ename": "NameError",
     "evalue": "name 'target' is not defined",
     "output_type": "error",
     "traceback": [
      "\u001b[1;31m---------------------------------------------------------------------------\u001b[0m",
      "\u001b[1;31mNameError\u001b[0m                                 Traceback (most recent call last)",
      "\u001b[1;32mC:\\Users\\SUMAMA~1\\AppData\\Local\\Temp/ipykernel_14504/28602807.py\u001b[0m in \u001b[0;36m<module>\u001b[1;34m\u001b[0m\n\u001b[0;32m      1\u001b[0m \u001b[1;32mfrom\u001b[0m \u001b[0msklearn\u001b[0m\u001b[1;33m.\u001b[0m\u001b[0mmodel_selection\u001b[0m \u001b[1;32mimport\u001b[0m \u001b[0mtrain_test_split\u001b[0m\u001b[1;33m\u001b[0m\u001b[1;33m\u001b[0m\u001b[0m\n\u001b[0;32m      2\u001b[0m X_train, X_test, y_train, y_test = train_test_split(\n\u001b[1;32m----> 3\u001b[1;33m      pca_comp[:,:n_comp_to_keep], target, test_size=0.33, random_state=42)\n\u001b[0m",
      "\u001b[1;31mNameError\u001b[0m: name 'target' is not defined"
     ]
    }
   ],
   "source": [
    "from sklearn.model_selection import train_test_split\n",
    "X_train, X_test, y_train, y_test = train_test_split(\n",
    "     pca_comp[:,:n_comp_to_keep], target, test_size=0.33, random_state=42)\n"
   ]
  },
  {
   "cell_type": "markdown",
   "metadata": {},
   "source": [
    "# UMAP projection"
   ]
  },
  {
   "cell_type": "code",
   "execution_count": null,
   "metadata": {},
   "outputs": [],
   "source": [
    "!pip install --upgrade llvmlite"
   ]
  },
  {
   "cell_type": "code",
   "execution_count": null,
   "metadata": {},
   "outputs": [],
   "source": [
    "!pip install umap-learn"
   ]
  },
  {
   "cell_type": "code",
   "execution_count": null,
   "metadata": {},
   "outputs": [],
   "source": [
    "import umap\n",
    "import time"
   ]
  },
  {
   "cell_type": "code",
   "execution_count": null,
   "metadata": {},
   "outputs": [],
   "source": [
    "uboat = umap.UMAP()\n",
    "start = time.clock()\n",
    "embedding = uboat.fit_transform(X_train)\n",
    "end = time.clock()"
   ]
  },
  {
   "cell_type": "code",
   "execution_count": null,
   "metadata": {},
   "outputs": [],
   "source": [
    "print('Time taken: {}'.format(end-start))"
   ]
  },
  {
   "cell_type": "code",
   "execution_count": null,
   "metadata": {},
   "outputs": [],
   "source": [
    "embedding.shape"
   ]
  },
  {
   "cell_type": "markdown",
   "metadata": {},
   "source": [
    "### plot projection"
   ]
  },
  {
   "cell_type": "code",
   "execution_count": null,
   "metadata": {},
   "outputs": [],
   "source": [
    "import matplotlib.pyplot as plt"
   ]
  },
  {
   "cell_type": "code",
   "execution_count": null,
   "metadata": {},
   "outputs": [],
   "source": [
    "plt.scatter(embedding[:,0], embedding[:,1],c=y_train)"
   ]
  },
  {
   "cell_type": "code",
   "execution_count": null,
   "metadata": {},
   "outputs": [],
   "source": [
    "plt.scatter(x1, x2, c= y)"
   ]
  },
  {
   "cell_type": "code",
   "execution_count": null,
   "metadata": {},
   "outputs": [],
   "source": [
    "from sklearn.datasets import load_digits \n",
    "\n",
    "digits = load_digits()\n",
    "mapper = umap.UMAP()\n",
    "embedding = mapper.fit_transform(digits.data)\n"
   ]
  },
  {
   "cell_type": "code",
   "execution_count": null,
   "metadata": {},
   "outputs": [],
   "source": [
    "digits.data.shape"
   ]
  },
  {
   "cell_type": "code",
   "execution_count": null,
   "metadata": {},
   "outputs": [],
   "source": [
    "(data, target) = load_digits(return_X_y=True)"
   ]
  },
  {
   "cell_type": "code",
   "execution_count": null,
   "metadata": {},
   "outputs": [],
   "source": [
    "data.shape"
   ]
  },
  {
   "cell_type": "code",
   "execution_count": null,
   "metadata": {},
   "outputs": [],
   "source": [
    "target.shape"
   ]
  },
  {
   "cell_type": "code",
   "execution_count": null,
   "metadata": {},
   "outputs": [],
   "source": [
    "plt.scatter(embedding[:,0], embedding[:,1], c=target.ravel())"
   ]
  },
  {
   "cell_type": "code",
   "execution_count": null,
   "metadata": {},
   "outputs": [],
   "source": []
  },
  {
   "cell_type": "markdown",
   "metadata": {},
   "source": [
    "# Models"
   ]
  },
  {
   "cell_type": "code",
   "execution_count": null,
   "metadata": {},
   "outputs": [],
   "source": []
  },
  {
   "cell_type": "markdown",
   "metadata": {},
   "source": [
    "# Metrics"
   ]
  },
  {
   "cell_type": "code",
   "execution_count": null,
   "metadata": {},
   "outputs": [],
   "source": [
    "from sklearn.metrics import classification_report, auc, confusion_matrix, recall_score, precision_score, roc_curve, roc_auc_score\n",
    "from sklearn.metrics import precision_recall_curve"
   ]
  },
  {
   "cell_type": "code",
   "execution_count": null,
   "metadata": {},
   "outputs": [],
   "source": [
    "clf.predict_log_proba(X_test)"
   ]
  },
  {
   "cell_type": "code",
   "execution_count": null,
   "metadata": {},
   "outputs": [],
   "source": [
    "clf.predict_proba(X_test, clf.predict_proba(X_test))"
   ]
  },
  {
   "cell_type": "code",
   "execution_count": null,
   "metadata": {},
   "outputs": [],
   "source": [
    "precision_recall_curve(y_test, clf.predict_proba(X_test))"
   ]
  },
  {
   "cell_type": "code",
   "execution_count": null,
   "metadata": {},
   "outputs": [],
   "source": [
    "roc_auc_score()"
   ]
  },
  {
   "cell_type": "code",
   "execution_count": null,
   "metadata": {},
   "outputs": [],
   "source": [
    "confusion_matrix(y_test, clf.predict(X_test))"
   ]
  },
  {
   "cell_type": "code",
   "execution_count": null,
   "metadata": {},
   "outputs": [],
   "source": [
    "report = classification_report(y_test, clf.predict(X_test))"
   ]
  },
  {
   "cell_type": "code",
   "execution_count": null,
   "metadata": {},
   "outputs": [],
   "source": [
    "print(classification_report(y_test, clf.predict(X_test)))"
   ]
  },
  {
   "cell_type": "code",
   "execution_count": null,
   "metadata": {},
   "outputs": [],
   "source": []
  }
 ],
 "metadata": {
  "kernelspec": {
   "display_name": "Python 3 (ipykernel)",
   "language": "python",
   "name": "python3"
  },
  "language_info": {
   "codemirror_mode": {
    "name": "ipython",
    "version": 3
   },
   "file_extension": ".py",
   "mimetype": "text/x-python",
   "name": "python",
   "nbconvert_exporter": "python",
   "pygments_lexer": "ipython3",
   "version": "3.9.7"
  }
 },
 "nbformat": 4,
 "nbformat_minor": 2
}
