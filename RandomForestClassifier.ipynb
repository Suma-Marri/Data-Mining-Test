{
 "cells": [
  {
   "cell_type": "markdown",
   "metadata": {},
   "source": [
    "# Porto Seguro DataSet"
   ]
  },
  {
   "cell_type": "code",
   "execution_count": 1,
   "metadata": {},
   "outputs": [],
   "source": [
    "import numpy as np\n",
    "import pandas as pd\n",
    "import matplotlib.pyplot as plt\n",
    "%matplotlib inline\n",
    "\n",
    "\n",
    "import seaborn as sns\n",
    "\n",
    "import warnings\n",
    "warnings.filterwarnings('ignore')\n",
    "\n",
    "pd.set_option('display.max_columns', 500)\n",
    "pd.set_option('display.max_rows', 65000)\n",
    "\n",
    "from statsmodels import stats\n",
    "from scipy import stats\n",
    "\n",
    "from sklearn.preprocessing import LabelEncoder, MinMaxScaler\n",
    "from sklearn.model_selection import train_test_split\n",
    "from imblearn.over_sampling import SMOTE\n",
    "\n",
    "from sklearn.linear_model import LogisticRegression\n",
    "from sklearn.tree import DecisionTreeClassifier\n",
    "from sklearn.ensemble import RandomForestClassifier\n",
    "from sklearn.ensemble import AdaBoostClassifier\n",
    "from sklearn.ensemble import GradientBoostingClassifier\n",
    "from sklearn.svm import SVC\n",
    "from sklearn.neighbors import NearestNeighbors\n",
    "\n",
    "from sklearn.model_selection import RandomizedSearchCV\n",
    "from sklearn.model_selection import GridSearchCV, cross_val_score, StratifiedKFold\n",
    "\n",
    "from sklearn.metrics import confusion_matrix, recall_score, precision_score, f1_score, roc_auc_score, roc_curve, make_scorer\n",
    "score_fun = make_scorer('roc_auc')"
   ]
  },
  {
   "cell_type": "code",
   "execution_count": 2,
   "metadata": {},
   "outputs": [],
   "source": [
    "#df = pd.read_csv(\"Porto_Seguro_Sample_58k.csv\")"
   ]
  },
  {
   "cell_type": "code",
   "execution_count": 3,
   "metadata": {},
   "outputs": [],
   "source": [
    "df = pd.read_csv(\"TRAIN.csv\")"
   ]
  },
  {
   "cell_type": "code",
   "execution_count": 4,
   "metadata": {},
   "outputs": [
    {
     "data": {
      "text/plain": [
       "0    0.963486\n",
       "1    0.036514\n",
       "Name: target, dtype: float64"
      ]
     },
     "execution_count": 4,
     "metadata": {},
     "output_type": "execute_result"
    }
   ],
   "source": [
    "df['target'].value_counts(normalize=True)"
   ]
  },
  {
   "cell_type": "code",
   "execution_count": 5,
   "metadata": {},
   "outputs": [
    {
     "data": {
      "text/plain": [
       "0    480895\n",
       "1     18225\n",
       "Name: target, dtype: int64"
      ]
     },
     "execution_count": 5,
     "metadata": {},
     "output_type": "execute_result"
    }
   ],
   "source": [
    "df['target'].value_counts()"
   ]
  },
  {
   "cell_type": "code",
   "execution_count": 6,
   "metadata": {},
   "outputs": [],
   "source": [
    "df = df.replace(-1, np.NAN)"
   ]
  },
  {
   "cell_type": "code",
   "execution_count": 7,
   "metadata": {},
   "outputs": [
    {
     "data": {
      "text/plain": [
       "ps_car_03_cat    69.165932\n",
       "ps_car_05_cat    44.814473\n",
       "dtype: float64"
      ]
     },
     "execution_count": 7,
     "metadata": {},
     "output_type": "execute_result"
    }
   ],
   "source": [
    "missing_values_per = df.isna().sum()/df.shape[0]*100\n",
    "missing_values_per[missing_values_per>40]"
   ]
  },
  {
   "cell_type": "code",
   "execution_count": 8,
   "metadata": {},
   "outputs": [],
   "source": [
    "df.drop(columns='ps_car_03_cat', inplace=True)"
   ]
  },
  {
   "cell_type": "code",
   "execution_count": 9,
   "metadata": {},
   "outputs": [],
   "source": [
    "df_id = df['id']\n",
    "y = df['target']\n",
    "df.drop(columns=['id', 'target'], inplace=True)"
   ]
  },
  {
   "cell_type": "code",
   "execution_count": 10,
   "metadata": {},
   "outputs": [
    {
     "data": {
      "text/plain": [
       "(499120, 56)"
      ]
     },
     "execution_count": 10,
     "metadata": {},
     "output_type": "execute_result"
    }
   ],
   "source": [
    "df.shape"
   ]
  },
  {
   "cell_type": "code",
   "execution_count": 11,
   "metadata": {},
   "outputs": [],
   "source": [
    "columns = df.columns.to_list()"
   ]
  },
  {
   "cell_type": "code",
   "execution_count": 12,
   "metadata": {},
   "outputs": [],
   "source": [
    "cat = []\n",
    "reg = []\n",
    "for i in columns:\n",
    "    if 'cat' in i:\n",
    "        cat.append(i)\n",
    "    elif 'bin' in i:\n",
    "        cat.append(i)        \n",
    "    elif 'reg' in i:\n",
    "        reg.append(i)\n",
    "    elif 'ind' in i:\n",
    "        cat.append(i)\n",
    "    elif df[i].dtype=='float64':\n",
    "        reg.append(i)\n",
    "    else:\n",
    "        cat.append(i)"
   ]
  },
  {
   "cell_type": "code",
   "execution_count": 13,
   "metadata": {
    "scrolled": false
   },
   "outputs": [
    {
     "data": {
      "text/html": [
       "<div>\n",
       "<style scoped>\n",
       "    .dataframe tbody tr th:only-of-type {\n",
       "        vertical-align: middle;\n",
       "    }\n",
       "\n",
       "    .dataframe tbody tr th {\n",
       "        vertical-align: top;\n",
       "    }\n",
       "\n",
       "    .dataframe thead th {\n",
       "        text-align: right;\n",
       "    }\n",
       "</style>\n",
       "<table border=\"1\" class=\"dataframe\">\n",
       "  <thead>\n",
       "    <tr style=\"text-align: right;\">\n",
       "      <th></th>\n",
       "      <th>ps_reg_01</th>\n",
       "      <th>ps_reg_02</th>\n",
       "      <th>ps_reg_03</th>\n",
       "      <th>ps_car_11</th>\n",
       "      <th>ps_car_12</th>\n",
       "      <th>ps_car_13</th>\n",
       "      <th>ps_car_14</th>\n",
       "      <th>ps_car_15</th>\n",
       "      <th>ps_calc_01</th>\n",
       "      <th>ps_calc_02</th>\n",
       "      <th>ps_calc_03</th>\n",
       "    </tr>\n",
       "  </thead>\n",
       "  <tbody>\n",
       "    <tr>\n",
       "      <th>0</th>\n",
       "      <td>0.7</td>\n",
       "      <td>0.2</td>\n",
       "      <td>0.718070</td>\n",
       "      <td>2.0</td>\n",
       "      <td>0.400000</td>\n",
       "      <td>0.883679</td>\n",
       "      <td>0.370810</td>\n",
       "      <td>3.605551</td>\n",
       "      <td>0.6</td>\n",
       "      <td>0.5</td>\n",
       "      <td>0.2</td>\n",
       "    </tr>\n",
       "    <tr>\n",
       "      <th>1</th>\n",
       "      <td>0.8</td>\n",
       "      <td>0.4</td>\n",
       "      <td>0.766078</td>\n",
       "      <td>3.0</td>\n",
       "      <td>0.316228</td>\n",
       "      <td>0.618817</td>\n",
       "      <td>0.388716</td>\n",
       "      <td>2.449490</td>\n",
       "      <td>0.3</td>\n",
       "      <td>0.1</td>\n",
       "      <td>0.3</td>\n",
       "    </tr>\n",
       "    <tr>\n",
       "      <th>2</th>\n",
       "      <td>0.0</td>\n",
       "      <td>0.0</td>\n",
       "      <td>NaN</td>\n",
       "      <td>1.0</td>\n",
       "      <td>0.316228</td>\n",
       "      <td>0.641586</td>\n",
       "      <td>0.347275</td>\n",
       "      <td>3.316625</td>\n",
       "      <td>0.5</td>\n",
       "      <td>0.7</td>\n",
       "      <td>0.1</td>\n",
       "    </tr>\n",
       "    <tr>\n",
       "      <th>3</th>\n",
       "      <td>0.9</td>\n",
       "      <td>0.2</td>\n",
       "      <td>0.580948</td>\n",
       "      <td>1.0</td>\n",
       "      <td>0.374166</td>\n",
       "      <td>0.542949</td>\n",
       "      <td>0.294958</td>\n",
       "      <td>2.000000</td>\n",
       "      <td>0.6</td>\n",
       "      <td>0.9</td>\n",
       "      <td>0.1</td>\n",
       "    </tr>\n",
       "    <tr>\n",
       "      <th>4</th>\n",
       "      <td>0.7</td>\n",
       "      <td>0.6</td>\n",
       "      <td>0.840759</td>\n",
       "      <td>3.0</td>\n",
       "      <td>0.316070</td>\n",
       "      <td>0.565832</td>\n",
       "      <td>0.365103</td>\n",
       "      <td>2.000000</td>\n",
       "      <td>0.4</td>\n",
       "      <td>0.6</td>\n",
       "      <td>0.0</td>\n",
       "    </tr>\n",
       "  </tbody>\n",
       "</table>\n",
       "</div>"
      ],
      "text/plain": [
       "   ps_reg_01  ps_reg_02  ps_reg_03  ps_car_11  ps_car_12  ps_car_13  \\\n",
       "0        0.7        0.2   0.718070        2.0   0.400000   0.883679   \n",
       "1        0.8        0.4   0.766078        3.0   0.316228   0.618817   \n",
       "2        0.0        0.0        NaN        1.0   0.316228   0.641586   \n",
       "3        0.9        0.2   0.580948        1.0   0.374166   0.542949   \n",
       "4        0.7        0.6   0.840759        3.0   0.316070   0.565832   \n",
       "\n",
       "   ps_car_14  ps_car_15  ps_calc_01  ps_calc_02  ps_calc_03  \n",
       "0   0.370810   3.605551         0.6         0.5         0.2  \n",
       "1   0.388716   2.449490         0.3         0.1         0.3  \n",
       "2   0.347275   3.316625         0.5         0.7         0.1  \n",
       "3   0.294958   2.000000         0.6         0.9         0.1  \n",
       "4   0.365103   2.000000         0.4         0.6         0.0  "
      ]
     },
     "execution_count": 13,
     "metadata": {},
     "output_type": "execute_result"
    }
   ],
   "source": [
    "df[reg].head()"
   ]
  },
  {
   "cell_type": "code",
   "execution_count": 14,
   "metadata": {},
   "outputs": [],
   "source": [
    "df[reg] = df[reg].astype('float64')\n",
    "df[cat] = df[cat].astype('O')"
   ]
  },
  {
   "cell_type": "code",
   "execution_count": 15,
   "metadata": {},
   "outputs": [
    {
     "data": {
      "text/html": [
       "<div>\n",
       "<style scoped>\n",
       "    .dataframe tbody tr th:only-of-type {\n",
       "        vertical-align: middle;\n",
       "    }\n",
       "\n",
       "    .dataframe tbody tr th {\n",
       "        vertical-align: top;\n",
       "    }\n",
       "\n",
       "    .dataframe thead th {\n",
       "        text-align: right;\n",
       "    }\n",
       "</style>\n",
       "<table border=\"1\" class=\"dataframe\">\n",
       "  <thead>\n",
       "    <tr style=\"text-align: right;\">\n",
       "      <th></th>\n",
       "      <th>ps_ind_01</th>\n",
       "      <th>ps_ind_02_cat</th>\n",
       "      <th>ps_ind_03</th>\n",
       "      <th>ps_ind_04_cat</th>\n",
       "      <th>ps_ind_05_cat</th>\n",
       "      <th>ps_ind_06_bin</th>\n",
       "      <th>ps_ind_07_bin</th>\n",
       "      <th>ps_ind_08_bin</th>\n",
       "      <th>ps_ind_09_bin</th>\n",
       "      <th>ps_ind_10_bin</th>\n",
       "      <th>ps_ind_11_bin</th>\n",
       "      <th>ps_ind_12_bin</th>\n",
       "      <th>ps_ind_13_bin</th>\n",
       "      <th>ps_ind_14</th>\n",
       "      <th>ps_ind_15</th>\n",
       "      <th>ps_ind_16_bin</th>\n",
       "      <th>ps_ind_17_bin</th>\n",
       "      <th>ps_ind_18_bin</th>\n",
       "      <th>ps_car_01_cat</th>\n",
       "      <th>ps_car_02_cat</th>\n",
       "      <th>ps_car_04_cat</th>\n",
       "      <th>ps_car_05_cat</th>\n",
       "      <th>ps_car_06_cat</th>\n",
       "      <th>ps_car_07_cat</th>\n",
       "      <th>ps_car_08_cat</th>\n",
       "      <th>ps_car_09_cat</th>\n",
       "      <th>ps_car_10_cat</th>\n",
       "      <th>ps_car_11_cat</th>\n",
       "      <th>ps_calc_04</th>\n",
       "      <th>ps_calc_05</th>\n",
       "      <th>ps_calc_06</th>\n",
       "      <th>ps_calc_07</th>\n",
       "      <th>ps_calc_08</th>\n",
       "      <th>ps_calc_09</th>\n",
       "      <th>ps_calc_10</th>\n",
       "      <th>ps_calc_11</th>\n",
       "      <th>ps_calc_12</th>\n",
       "      <th>ps_calc_13</th>\n",
       "      <th>ps_calc_14</th>\n",
       "      <th>ps_calc_15_bin</th>\n",
       "      <th>ps_calc_16_bin</th>\n",
       "      <th>ps_calc_17_bin</th>\n",
       "      <th>ps_calc_18_bin</th>\n",
       "      <th>ps_calc_19_bin</th>\n",
       "      <th>ps_calc_20_bin</th>\n",
       "    </tr>\n",
       "  </thead>\n",
       "  <tbody>\n",
       "    <tr>\n",
       "      <th>count</th>\n",
       "      <td>499120</td>\n",
       "      <td>498935.0</td>\n",
       "      <td>499120</td>\n",
       "      <td>499049.0</td>\n",
       "      <td>494230.0</td>\n",
       "      <td>499120</td>\n",
       "      <td>499120</td>\n",
       "      <td>499120</td>\n",
       "      <td>499120</td>\n",
       "      <td>499120</td>\n",
       "      <td>499120</td>\n",
       "      <td>499120</td>\n",
       "      <td>499120</td>\n",
       "      <td>499120</td>\n",
       "      <td>499120</td>\n",
       "      <td>499120</td>\n",
       "      <td>499120</td>\n",
       "      <td>499120</td>\n",
       "      <td>499028.0</td>\n",
       "      <td>499116.0</td>\n",
       "      <td>499120</td>\n",
       "      <td>275442.0</td>\n",
       "      <td>499120</td>\n",
       "      <td>489467.0</td>\n",
       "      <td>499120</td>\n",
       "      <td>498651.0</td>\n",
       "      <td>499120</td>\n",
       "      <td>499120</td>\n",
       "      <td>499120</td>\n",
       "      <td>499120</td>\n",
       "      <td>499120</td>\n",
       "      <td>499120</td>\n",
       "      <td>499120</td>\n",
       "      <td>499120</td>\n",
       "      <td>499120</td>\n",
       "      <td>499120</td>\n",
       "      <td>499120</td>\n",
       "      <td>499120</td>\n",
       "      <td>499120</td>\n",
       "      <td>499120</td>\n",
       "      <td>499120</td>\n",
       "      <td>499120</td>\n",
       "      <td>499120</td>\n",
       "      <td>499120</td>\n",
       "      <td>499120</td>\n",
       "    </tr>\n",
       "    <tr>\n",
       "      <th>unique</th>\n",
       "      <td>8</td>\n",
       "      <td>4.0</td>\n",
       "      <td>12</td>\n",
       "      <td>2.0</td>\n",
       "      <td>7.0</td>\n",
       "      <td>2</td>\n",
       "      <td>2</td>\n",
       "      <td>2</td>\n",
       "      <td>2</td>\n",
       "      <td>2</td>\n",
       "      <td>2</td>\n",
       "      <td>2</td>\n",
       "      <td>2</td>\n",
       "      <td>5</td>\n",
       "      <td>14</td>\n",
       "      <td>2</td>\n",
       "      <td>2</td>\n",
       "      <td>2</td>\n",
       "      <td>12.0</td>\n",
       "      <td>2.0</td>\n",
       "      <td>10</td>\n",
       "      <td>2.0</td>\n",
       "      <td>18</td>\n",
       "      <td>2.0</td>\n",
       "      <td>2</td>\n",
       "      <td>5.0</td>\n",
       "      <td>3</td>\n",
       "      <td>104</td>\n",
       "      <td>6</td>\n",
       "      <td>7</td>\n",
       "      <td>11</td>\n",
       "      <td>10</td>\n",
       "      <td>11</td>\n",
       "      <td>8</td>\n",
       "      <td>26</td>\n",
       "      <td>19</td>\n",
       "      <td>11</td>\n",
       "      <td>14</td>\n",
       "      <td>24</td>\n",
       "      <td>2</td>\n",
       "      <td>2</td>\n",
       "      <td>2</td>\n",
       "      <td>2</td>\n",
       "      <td>2</td>\n",
       "      <td>2</td>\n",
       "    </tr>\n",
       "    <tr>\n",
       "      <th>top</th>\n",
       "      <td>0</td>\n",
       "      <td>1.0</td>\n",
       "      <td>2</td>\n",
       "      <td>0.0</td>\n",
       "      <td>0.0</td>\n",
       "      <td>0</td>\n",
       "      <td>0</td>\n",
       "      <td>0</td>\n",
       "      <td>0</td>\n",
       "      <td>0</td>\n",
       "      <td>0</td>\n",
       "      <td>0</td>\n",
       "      <td>0</td>\n",
       "      <td>0</td>\n",
       "      <td>7</td>\n",
       "      <td>1</td>\n",
       "      <td>0</td>\n",
       "      <td>0</td>\n",
       "      <td>11.0</td>\n",
       "      <td>1.0</td>\n",
       "      <td>0</td>\n",
       "      <td>1.0</td>\n",
       "      <td>11</td>\n",
       "      <td>1.0</td>\n",
       "      <td>1</td>\n",
       "      <td>2.0</td>\n",
       "      <td>1</td>\n",
       "      <td>104</td>\n",
       "      <td>2</td>\n",
       "      <td>2</td>\n",
       "      <td>8</td>\n",
       "      <td>3</td>\n",
       "      <td>9</td>\n",
       "      <td>2</td>\n",
       "      <td>8</td>\n",
       "      <td>5</td>\n",
       "      <td>1</td>\n",
       "      <td>2</td>\n",
       "      <td>7</td>\n",
       "      <td>0</td>\n",
       "      <td>1</td>\n",
       "      <td>1</td>\n",
       "      <td>0</td>\n",
       "      <td>0</td>\n",
       "      <td>0</td>\n",
       "    </tr>\n",
       "    <tr>\n",
       "      <th>freq</th>\n",
       "      <td>157091</td>\n",
       "      <td>361934.0</td>\n",
       "      <td>80545</td>\n",
       "      <td>290735.0</td>\n",
       "      <td>442648.0</td>\n",
       "      <td>302625</td>\n",
       "      <td>370927</td>\n",
       "      <td>417321</td>\n",
       "      <td>406487</td>\n",
       "      <td>498937</td>\n",
       "      <td>498280</td>\n",
       "      <td>494400</td>\n",
       "      <td>498657</td>\n",
       "      <td>493770</td>\n",
       "      <td>54797</td>\n",
       "      <td>330006</td>\n",
       "      <td>438623</td>\n",
       "      <td>422624</td>\n",
       "      <td>173931.0</td>\n",
       "      <td>414249.0</td>\n",
       "      <td>416525</td>\n",
       "      <td>144739.0</td>\n",
       "      <td>110352</td>\n",
       "      <td>463814.0</td>\n",
       "      <td>415347</td>\n",
       "      <td>296380.0</td>\n",
       "      <td>494879</td>\n",
       "      <td>71138</td>\n",
       "      <td>162831</td>\n",
       "      <td>163652</td>\n",
       "      <td>146665</td>\n",
       "      <td>136352</td>\n",
       "      <td>127277</td>\n",
       "      <td>153185</td>\n",
       "      <td>68798</td>\n",
       "      <td>85914</td>\n",
       "      <td>170372</td>\n",
       "      <td>116790</td>\n",
       "      <td>72819</td>\n",
       "      <td>437850</td>\n",
       "      <td>313346</td>\n",
       "      <td>276760</td>\n",
       "      <td>355759</td>\n",
       "      <td>324886</td>\n",
       "      <td>422517</td>\n",
       "    </tr>\n",
       "  </tbody>\n",
       "</table>\n",
       "</div>"
      ],
      "text/plain": [
       "        ps_ind_01  ps_ind_02_cat  ps_ind_03  ps_ind_04_cat  ps_ind_05_cat  \\\n",
       "count      499120       498935.0     499120       499049.0       494230.0   \n",
       "unique          8            4.0         12            2.0            7.0   \n",
       "top             0            1.0          2            0.0            0.0   \n",
       "freq       157091       361934.0      80545       290735.0       442648.0   \n",
       "\n",
       "        ps_ind_06_bin  ps_ind_07_bin  ps_ind_08_bin  ps_ind_09_bin  \\\n",
       "count          499120         499120         499120         499120   \n",
       "unique              2              2              2              2   \n",
       "top                 0              0              0              0   \n",
       "freq           302625         370927         417321         406487   \n",
       "\n",
       "        ps_ind_10_bin  ps_ind_11_bin  ps_ind_12_bin  ps_ind_13_bin  ps_ind_14  \\\n",
       "count          499120         499120         499120         499120     499120   \n",
       "unique              2              2              2              2          5   \n",
       "top                 0              0              0              0          0   \n",
       "freq           498937         498280         494400         498657     493770   \n",
       "\n",
       "        ps_ind_15  ps_ind_16_bin  ps_ind_17_bin  ps_ind_18_bin  ps_car_01_cat  \\\n",
       "count      499120         499120         499120         499120       499028.0   \n",
       "unique         14              2              2              2           12.0   \n",
       "top             7              1              0              0           11.0   \n",
       "freq        54797         330006         438623         422624       173931.0   \n",
       "\n",
       "        ps_car_02_cat  ps_car_04_cat  ps_car_05_cat  ps_car_06_cat  \\\n",
       "count        499116.0         499120       275442.0         499120   \n",
       "unique            2.0             10            2.0             18   \n",
       "top               1.0              0            1.0             11   \n",
       "freq         414249.0         416525       144739.0         110352   \n",
       "\n",
       "        ps_car_07_cat  ps_car_08_cat  ps_car_09_cat  ps_car_10_cat  \\\n",
       "count        489467.0         499120       498651.0         499120   \n",
       "unique            2.0              2            5.0              3   \n",
       "top               1.0              1            2.0              1   \n",
       "freq         463814.0         415347       296380.0         494879   \n",
       "\n",
       "        ps_car_11_cat  ps_calc_04  ps_calc_05  ps_calc_06  ps_calc_07  \\\n",
       "count          499120      499120      499120      499120      499120   \n",
       "unique            104           6           7          11          10   \n",
       "top               104           2           2           8           3   \n",
       "freq            71138      162831      163652      146665      136352   \n",
       "\n",
       "        ps_calc_08  ps_calc_09  ps_calc_10  ps_calc_11  ps_calc_12  \\\n",
       "count       499120      499120      499120      499120      499120   \n",
       "unique          11           8          26          19          11   \n",
       "top              9           2           8           5           1   \n",
       "freq        127277      153185       68798       85914      170372   \n",
       "\n",
       "        ps_calc_13  ps_calc_14  ps_calc_15_bin  ps_calc_16_bin  \\\n",
       "count       499120      499120          499120          499120   \n",
       "unique          14          24               2               2   \n",
       "top              2           7               0               1   \n",
       "freq        116790       72819          437850          313346   \n",
       "\n",
       "        ps_calc_17_bin  ps_calc_18_bin  ps_calc_19_bin  ps_calc_20_bin  \n",
       "count           499120          499120          499120          499120  \n",
       "unique               2               2               2               2  \n",
       "top                  1               0               0               0  \n",
       "freq            276760          355759          324886          422517  "
      ]
     },
     "execution_count": 15,
     "metadata": {},
     "output_type": "execute_result"
    }
   ],
   "source": [
    "df[cat].describe()"
   ]
  },
  {
   "cell_type": "code",
   "execution_count": null,
   "metadata": {},
   "outputs": [],
   "source": []
  },
  {
   "cell_type": "code",
   "execution_count": 16,
   "metadata": {},
   "outputs": [
    {
     "data": {
      "text/plain": [
       "[]"
      ]
     },
     "execution_count": 16,
     "metadata": {},
     "output_type": "execute_result"
    }
   ],
   "source": [
    "rows, columns = df.shape\n",
    "drop_nunique_col = []\n",
    "for col in df.columns:\n",
    "    if df[col].nunique == rows or df[col].nunique == 1:\n",
    "        drop_nunique_col.append(col)\n",
    "drop_nunique_col    "
   ]
  },
  {
   "cell_type": "code",
   "execution_count": 17,
   "metadata": {},
   "outputs": [],
   "source": [
    "X_train, X_test, y_train, y_test = train_test_split(df, y, test_size=0.25, random_state=0)"
   ]
  },
  {
   "cell_type": "code",
   "execution_count": 18,
   "metadata": {},
   "outputs": [],
   "source": [
    "#X_train[cat].iloc[:400, :]"
   ]
  },
  {
   "cell_type": "code",
   "execution_count": 19,
   "metadata": {
    "scrolled": true
   },
   "outputs": [],
   "source": [
    "#X_test[reg].iloc[:400, :]"
   ]
  },
  {
   "cell_type": "code",
   "execution_count": null,
   "metadata": {},
   "outputs": [],
   "source": []
  },
  {
   "cell_type": "code",
   "execution_count": 20,
   "metadata": {},
   "outputs": [],
   "source": [
    "for col in X_train.columns:\n",
    "    if X_train[col].dtype == 'object':\n",
    "        X_train[col] = X_train[col].fillna(X_train[col].mode()[0])\n",
    "        X_test[col] = X_test[col].fillna(X_train[col].mode()[0])\n",
    "    else:\n",
    "        X_train[col] = X_train[col].fillna(X_train[col].mean())\n",
    "        X_test[col] = X_test[col].fillna(X_train[col].mean())"
   ]
  },
  {
   "cell_type": "code",
   "execution_count": null,
   "metadata": {},
   "outputs": [],
   "source": []
  },
  {
   "cell_type": "markdown",
   "metadata": {},
   "source": [
    "## Data Preprocessing -Lable Encoding, MinMax Scaling, Chi2Test\n",
    "### Apply SMOTE - Synthetic Minority OverSampling Technique"
   ]
  },
  {
   "cell_type": "code",
   "execution_count": 21,
   "metadata": {},
   "outputs": [],
   "source": [
    "class LabelEncoderExt(object):\n",
    "    def __init__(self):\n",
    "        \"\"\"\n",
    "        It differs from LabelEncoder by handling new classes and providing a value for it [Unknown]\n",
    "        Unknown will be added in fit and transform will take care of new item. It gives unknown class id\n",
    "        \"\"\"\n",
    "        self.label_encoder = LabelEncoder()\n",
    "        # self.classes_ = self.label_encoder.classes_\n",
    "\n",
    "    def fit(self, data_list):\n",
    "        \"\"\"\n",
    "        This will fit the encoder for all the unique values and introduce unknown value\n",
    "        :param data_list: A list of string\n",
    "        :return: self\n",
    "        \"\"\"\n",
    "        self.label_encoder = self.label_encoder.fit(list(data_list) + ['Unknown'])\n",
    "        self.classes_ = self.label_encoder.classes_\n",
    "\n",
    "        return self\n",
    "\n",
    "    def transform(self, data_list):\n",
    "        \"\"\"\n",
    "        This will transform the data_list to id list where the new values get assigned to Unknown class\n",
    "        :param data_list:\n",
    "        :return:\n",
    "        \"\"\"\n",
    "        new_data_list = list(data_list)\n",
    "        for unique_item in np.unique(data_list):\n",
    "            if unique_item not in self.label_encoder.classes_:\n",
    "                new_data_list = ['Unknown' if x==unique_item else x for x in new_data_list]\n",
    "\n",
    "        return self.label_encoder.transform(new_data_list)"
   ]
  },
  {
   "cell_type": "code",
   "execution_count": 22,
   "metadata": {},
   "outputs": [],
   "source": [
    "Le = LabelEncoderExt()\n",
    "for col in X_train.columns:\n",
    "    if X_train[col].dtype == 'object':\n",
    "        Le.fit(X_train[col])\n",
    "        X_train[col] = Le.transform(X_train[col]).asdtype('int64')\n",
    "        X_test[col] = Le.transform(X_test[col]).asdtype('int64')"
   ]
  },
  {
   "cell_type": "code",
   "execution_count": 23,
   "metadata": {},
   "outputs": [],
   "source": [
    "mMs = MinMaxScaler()\n",
    "for col in reg:\n",
    "        #mMs.fit([X_train[col]])\n",
    "        X_train[col] = mMs.fit_transform(np.array(X_train[col]).reshape(-1, 1))\n",
    "        X_test[col] = mMs.transform(np.array(X_test[col]).reshape(-1, 1))"
   ]
  },
  {
   "cell_type": "code",
   "execution_count": null,
   "metadata": {},
   "outputs": [],
   "source": []
  },
  {
   "cell_type": "code",
   "execution_count": 24,
   "metadata": {},
   "outputs": [
    {
     "name": "stdout",
     "output_type": "stream",
     "text": [
      "Before Feature Selection[Ch2_Test] No of Categorical Columns: =======> 45\n",
      "After Feature Selection[Ch2_Test] No of Categorical Columns: ========> 24\n",
      "Final Number of Columns : ========> 35\n"
     ]
    }
   ],
   "source": [
    "ch2_Value = []\n",
    "pValue = []\n",
    "for col in cat:\n",
    "    ct = pd.crosstab(X_train[col], y_train)   \n",
    "    ch2_Value.append(stats.chi2_contingency(ct)[0])\n",
    "    pValue.append(stats.chi2_contingency(ct)[1])\n",
    "    \n",
    "ch2_df = pd.DataFrame()\n",
    "ch2_df['cat_columns'] = cat\n",
    "ch2_df['ch2_value'] = ch2_Value\n",
    "ch2_df['pValue'] = pValue\n",
    "\n",
    "\n",
    "\n",
    "print(\"Before Feature Selection[Ch2_Test] No of Categorical Columns: =======>\", len(cat))\n",
    "ch2_test_af_col = ch2_df[ch2_df['pValue']<0.06]['cat_columns'].tolist()\n",
    "print(\"After Feature Selection[Ch2_Test] No of Categorical Columns: ========>\", len(ch2_test_af_col))\n",
    "\n",
    "final_col = reg + ch2_test_af_col     ## combing continous and ch2 test outcome columns \n",
    "\n",
    "X_train = X_train[final_col]\n",
    "X_test = X_test[final_col]\n",
    "\n",
    "\n",
    "print(\"Final Number of Columns : ========>\", len(final_col))"
   ]
  },
  {
   "cell_type": "code",
   "execution_count": null,
   "metadata": {},
   "outputs": [],
   "source": []
  },
  {
   "cell_type": "code",
   "execution_count": null,
   "metadata": {},
   "outputs": [],
   "source": []
  },
  {
   "cell_type": "code",
   "execution_count": 25,
   "metadata": {},
   "outputs": [
    {
     "data": {
      "text/plain": [
       "'\\nprint(y_train.value_counts())\\nprint(y_train.value_counts(normalize=True))\\nprint(y_train.shape)\\n\\nsmort = SMOTE(sampling_strategy=0.3, k_neighbors=8)  ## SMOTE Parameters\\nX_train, y_train = smort.fit_resample(X_train, y_train)\\n\\nprint(y_train.value_counts())\\nprint(y_train.value_counts(normalize=True))\\nprint(y_train.shape)\\n'"
      ]
     },
     "execution_count": 25,
     "metadata": {},
     "output_type": "execute_result"
    }
   ],
   "source": [
    "'''\n",
    "print(y_train.value_counts())\n",
    "print(y_train.value_counts(normalize=True))\n",
    "print(y_train.shape)\n",
    "\n",
    "smort = SMOTE(sampling_strategy=0.3, k_neighbors=8)  ## SMOTE Parameters\n",
    "X_train, y_train = smort.fit_resample(X_train, y_train)\n",
    "\n",
    "print(y_train.value_counts())\n",
    "print(y_train.value_counts(normalize=True))\n",
    "print(y_train.shape)\n",
    "'''"
   ]
  },
  {
   "cell_type": "code",
   "execution_count": null,
   "metadata": {},
   "outputs": [],
   "source": []
  },
  {
   "cell_type": "code",
   "execution_count": null,
   "metadata": {},
   "outputs": [],
   "source": []
  },
  {
   "cell_type": "code",
   "execution_count": null,
   "metadata": {},
   "outputs": [],
   "source": []
  },
  {
   "cell_type": "markdown",
   "metadata": {},
   "source": [
    "## Checking Feature Importance"
   ]
  },
  {
   "cell_type": "code",
   "execution_count": 27,
   "metadata": {},
   "outputs": [],
   "source": [
    "rf = RandomForestClassifier()\n"
   ]
  },
  {
   "cell_type": "code",
   "execution_count": 28,
   "metadata": {},
   "outputs": [
    {
     "ename": "NotFittedError",
     "evalue": "This RandomForestClassifier instance is not fitted yet. Call 'fit' with appropriate arguments before using this estimator.",
     "output_type": "error",
     "traceback": [
      "\u001b[1;31m---------------------------------------------------------------------------\u001b[0m",
      "\u001b[1;31mNotFittedError\u001b[0m                            Traceback (most recent call last)",
      "\u001b[1;32mC:\\Users\\SUMAMA~1\\AppData\\Local\\Temp/ipykernel_26764/4273746353.py\u001b[0m in \u001b[0;36m<module>\u001b[1;34m\u001b[0m\n\u001b[1;32m----> 1\u001b[1;33m \u001b[0mfeatures_importance\u001b[0m \u001b[1;33m=\u001b[0m \u001b[0mrf\u001b[0m\u001b[1;33m.\u001b[0m\u001b[0mfeature_importances_\u001b[0m\u001b[1;33m\u001b[0m\u001b[1;33m\u001b[0m\u001b[0m\n\u001b[0m\u001b[0;32m      2\u001b[0m \u001b[0mfeatures_importance\u001b[0m\u001b[1;33m[\u001b[0m\u001b[1;33m:\u001b[0m\u001b[1;33m:\u001b[0m\u001b[1;33m-\u001b[0m\u001b[1;36m1\u001b[0m\u001b[1;33m]\u001b[0m\u001b[1;33m.\u001b[0m\u001b[0msort\u001b[0m\u001b[1;33m(\u001b[0m\u001b[1;33m)\u001b[0m\u001b[1;33m\u001b[0m\u001b[1;33m\u001b[0m\u001b[0m\n\u001b[0;32m      3\u001b[0m \u001b[1;33m\u001b[0m\u001b[0m\n\u001b[0;32m      4\u001b[0m \u001b[0mfeature_imp_df\u001b[0m \u001b[1;33m=\u001b[0m \u001b[0mpd\u001b[0m\u001b[1;33m.\u001b[0m\u001b[0mDataFrame\u001b[0m\u001b[1;33m(\u001b[0m\u001b[1;33m)\u001b[0m\u001b[1;33m\u001b[0m\u001b[1;33m\u001b[0m\u001b[0m\n\u001b[0;32m      5\u001b[0m \u001b[0mfeature_imp\u001b[0m \u001b[1;33m=\u001b[0m \u001b[1;33m[\u001b[0m\u001b[1;33m]\u001b[0m\u001b[1;33m\u001b[0m\u001b[1;33m\u001b[0m\u001b[0m\n",
      "\u001b[1;32m~\\anaconda3\\lib\\site-packages\\sklearn\\ensemble\\_forest.py\u001b[0m in \u001b[0;36mfeature_importances_\u001b[1;34m(self)\u001b[0m\n\u001b[0;32m    603\u001b[0m             \u001b[0marray\u001b[0m \u001b[0mof\u001b[0m \u001b[0mzeros\u001b[0m\u001b[1;33m.\u001b[0m\u001b[1;33m\u001b[0m\u001b[1;33m\u001b[0m\u001b[0m\n\u001b[0;32m    604\u001b[0m         \"\"\"\n\u001b[1;32m--> 605\u001b[1;33m         \u001b[0mcheck_is_fitted\u001b[0m\u001b[1;33m(\u001b[0m\u001b[0mself\u001b[0m\u001b[1;33m)\u001b[0m\u001b[1;33m\u001b[0m\u001b[1;33m\u001b[0m\u001b[0m\n\u001b[0m\u001b[0;32m    606\u001b[0m \u001b[1;33m\u001b[0m\u001b[0m\n\u001b[0;32m    607\u001b[0m         all_importances = Parallel(\n",
      "\u001b[1;32m~\\anaconda3\\lib\\site-packages\\sklearn\\utils\\validation.py\u001b[0m in \u001b[0;36mcheck_is_fitted\u001b[1;34m(estimator, attributes, msg, all_or_any)\u001b[0m\n\u001b[0;32m   1220\u001b[0m \u001b[1;33m\u001b[0m\u001b[0m\n\u001b[0;32m   1221\u001b[0m     \u001b[1;32mif\u001b[0m \u001b[1;32mnot\u001b[0m \u001b[0mfitted\u001b[0m\u001b[1;33m:\u001b[0m\u001b[1;33m\u001b[0m\u001b[1;33m\u001b[0m\u001b[0m\n\u001b[1;32m-> 1222\u001b[1;33m         \u001b[1;32mraise\u001b[0m \u001b[0mNotFittedError\u001b[0m\u001b[1;33m(\u001b[0m\u001b[0mmsg\u001b[0m \u001b[1;33m%\u001b[0m \u001b[1;33m{\u001b[0m\u001b[1;34m\"name\"\u001b[0m\u001b[1;33m:\u001b[0m \u001b[0mtype\u001b[0m\u001b[1;33m(\u001b[0m\u001b[0mestimator\u001b[0m\u001b[1;33m)\u001b[0m\u001b[1;33m.\u001b[0m\u001b[0m__name__\u001b[0m\u001b[1;33m}\u001b[0m\u001b[1;33m)\u001b[0m\u001b[1;33m\u001b[0m\u001b[1;33m\u001b[0m\u001b[0m\n\u001b[0m\u001b[0;32m   1223\u001b[0m \u001b[1;33m\u001b[0m\u001b[0m\n\u001b[0;32m   1224\u001b[0m \u001b[1;33m\u001b[0m\u001b[0m\n",
      "\u001b[1;31mNotFittedError\u001b[0m: This RandomForestClassifier instance is not fitted yet. Call 'fit' with appropriate arguments before using this estimator."
     ]
    }
   ],
   "source": [
    "features_importance = rf.feature_importances_\n",
    "features_importance[::-1].sort()\n",
    "\n",
    "feature_imp_df = pd.DataFrame()\n",
    "feature_imp = []\n",
    "for i, col in enumerate(X_train.columns):\n",
    "    feature_imp.append(features_importance[i])\n",
    "    #print(\"{}. {} ({})\".format(i + 1, col, features_importance[i]))\n",
    "feature_imp_df['cName'] = X_train.columns\n",
    "feature_imp_df['feature_imp_Val'] = feature_imp\n",
    "\n",
    "#feature_imp_df"
   ]
  },
  {
   "cell_type": "code",
   "execution_count": null,
   "metadata": {},
   "outputs": [],
   "source": [
    "plt.figure(figsize=(15, 15))\n",
    "plt.plot(np.arange(1, features_importance.shape[0]+1), np.cumsum(features_importance))"
   ]
  },
  {
   "cell_type": "code",
   "execution_count": null,
   "metadata": {},
   "outputs": [],
   "source": []
  },
  {
   "cell_type": "markdown",
   "metadata": {},
   "source": [
    "## HyperParameter Tuning"
   ]
  },
  {
   "cell_type": "code",
   "execution_count": null,
   "metadata": {},
   "outputs": [],
   "source": [
    "rf_hyp = RandomForestClassifier(n_jobs=-1)"
   ]
  },
  {
   "cell_type": "code",
   "execution_count": null,
   "metadata": {},
   "outputs": [],
   "source": [
    "rf_params = {\n",
    "    'n_estimators': [50, 75, 100],\n",
    "    'criterion' : ['gini', 'entropy'], \n",
    "    'max_depth' : [4, 5, 6, 7, 8], \n",
    "    'max_leaf_nodes': [20, 30, 40, 50],\n",
    "    'min_samples_leaf': [5, 10, 15, 20]\n",
    "}"
   ]
  },
  {
   "cell_type": "code",
   "execution_count": null,
   "metadata": {},
   "outputs": [],
   "source": [
    "rsCV = RandomizedSearchCV(estimator=rf_hyp, param_distributions=rf_params, scoring='roc_auc')"
   ]
  },
  {
   "cell_type": "code",
   "execution_count": null,
   "metadata": {},
   "outputs": [],
   "source": [
    "rsCV.fit(X_train, y_train)"
   ]
  },
  {
   "cell_type": "code",
   "execution_count": null,
   "metadata": {},
   "outputs": [],
   "source": [
    "best_params = rsCV.best_params_"
   ]
  },
  {
   "cell_type": "code",
   "execution_count": null,
   "metadata": {},
   "outputs": [],
   "source": [
    "best_params"
   ]
  },
  {
   "cell_type": "code",
   "execution_count": null,
   "metadata": {},
   "outputs": [],
   "source": [
    "rf_best_Model = rsCV.best_estimator_"
   ]
  },
  {
   "cell_type": "code",
   "execution_count": null,
   "metadata": {},
   "outputs": [],
   "source": [
    "rf_best_Model.fit(X_train, y_train)"
   ]
  },
  {
   "cell_type": "code",
   "execution_count": null,
   "metadata": {},
   "outputs": [],
   "source": [
    "scoresCV = cross_val_score(X=X_train, y=y_train, estimator=rf_best_Model, cv=3, scoring='roc_auc')\n",
    "for i, score in enumerate(scoresCV):\n",
    "    print(\"Fit\", i+1, \"Model RF : =====>\",score)\n",
    "print(str(rf).split(\"(\")[0], \"CV Mean Score\", scoresCV.mean())"
   ]
  },
  {
   "cell_type": "code",
   "execution_count": null,
   "metadata": {},
   "outputs": [],
   "source": [
    "y_predict = rf_best_Model.predict(X_test)\n",
    "y_predict_proba = rf_best_Model.predict_proba(X_test)[::,1]"
   ]
  },
  {
   "cell_type": "code",
   "execution_count": null,
   "metadata": {},
   "outputs": [],
   "source": [
    "train_acc = rf_best_Model.score(X_train, y_train)\n",
    "test_acc =  rf_best_Model.score(X_test, y_test)\n",
    "\n",
    "recallScore = recall_score(y_test, y_predict)\n",
    "precisionScore = precision_score(y_test, y_predict)\n",
    "\n",
    "f1Score = f1_score(y_test, y_predict)\n",
    "auc = roc_auc_score(y_test, y_predict_proba)\n",
    "fpr, tpr, thrshould = roc_curve(y_test, y_predict_proba)"
   ]
  },
  {
   "cell_type": "code",
   "execution_count": null,
   "metadata": {},
   "outputs": [],
   "source": [
    "print(\"\\n\\n\")\n",
    "print(\"Model Name: \", str(rf_best_Model).split(\"(\")[0])\n",
    "print(\"ConfusionMatrix: \\n\", confusion_matrix(y_test, y_predict))    \n",
    "print(\"TrainAcc: ====> {}\".format(train_acc))\n",
    "print(\"TestAccuracy : ====> {}\".format(test_acc))\n",
    "print(\"recall: ====> {}\".format(recallScore))\n",
    "print(\"Precision: ====> {}\".format(precisionScore))\n",
    "print(\"F1Score: ====> {}\".format(f1Score))\n",
    "print(\"AUC: ====> {}\".format(auc))"
   ]
  },
  {
   "cell_type": "code",
   "execution_count": null,
   "metadata": {},
   "outputs": [],
   "source": [
    "plt.figure(figsize=(8,8))\n",
    "plt.plot(fpr, tpr, label=\"Model Name: \"+mName+\"\\n\"+\"auc=\"+str(auc))\n",
    "plt.xlabel('False Positive Rate')\n",
    "plt.ylabel('True Positive Rate')\n",
    "plt.title('Area Under The Curve AUC-ROC')\n",
    "\n",
    "plt.legend(loc= 7)\n",
    "plt.show()"
   ]
  },
  {
   "cell_type": "code",
   "execution_count": null,
   "metadata": {},
   "outputs": [],
   "source": []
  },
  {
   "cell_type": "code",
   "execution_count": null,
   "metadata": {},
   "outputs": [],
   "source": []
  }
 ],
 "metadata": {
  "kernelspec": {
   "display_name": "Python 3 (ipykernel)",
   "language": "python",
   "name": "python3"
  },
  "language_info": {
   "codemirror_mode": {
    "name": "ipython",
    "version": 3
   },
   "file_extension": ".py",
   "mimetype": "text/x-python",
   "name": "python",
   "nbconvert_exporter": "python",
   "pygments_lexer": "ipython3",
   "version": "3.9.7"
  }
 },
 "nbformat": 4,
 "nbformat_minor": 2
}
